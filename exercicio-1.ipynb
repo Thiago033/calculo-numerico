{
 "cells": [
  {
   "cell_type": "code",
   "execution_count": null,
   "metadata": {},
   "outputs": [],
   "source": [
    "from prettytable import PrettyTable"
   ]
  },
  {
   "cell_type": "code",
   "execution_count": null,
   "metadata": {},
   "outputs": [],
   "source": [
    "def bisseccao(f, a, b, precision, n):\n",
    "    table = PrettyTable(['n', 'a', 'b', 'x', 'f(x)', 'f(a)', 'f(a)*f(x)'])\n",
    "  \n",
    "    if f(a) * f(b) >= 0:\n",
    "        return False\n",
    "\n",
    "    x = a\n",
    "      \n",
    "    for i in range(1, n+1):\n",
    "        if abs(b - a) < precision:\n",
    "            break\n",
    "    \n",
    "        x = (a + b) / 2     \n",
    "\n",
    "        table.add_row([i, a, b, x, f(x), f(a), f(a) * f(x)]) \n",
    "        \n",
    "        if f(a) * f(x) > 0:\n",
    "            a = x\n",
    "        else:\n",
    "            b = x\n",
    "\n",
    "    print(table)\n",
    "  \n",
    "    return x\n"
   ]
  },
  {
   "cell_type": "code",
   "execution_count": null,
   "metadata": {},
   "outputs": [],
   "source": [
    "def falsePosition(f, a, b, precision, n):\n",
    "    table = PrettyTable(['n', 'a', 'b', 'x', 'f(x)', 'f(a)*f(x)'])\n",
    "    \n",
    "    if (f(a) * f(b)) >= 0:\n",
    "        return False\n",
    "\n",
    "    x = a\n",
    "\n",
    "    for i in range(1, n+1):\n",
    "        if abs(b - a) < precision:\n",
    "            break\n",
    "\n",
    "        x = ((a * f(b)) - (b * f(a))) / (f(b) - f(a))\n",
    "\n",
    "        table.add_row([i, a, b, x, f(x), f(a) * f(x)])\n",
    "\n",
    "        if f(a) * f(x) > 0:\n",
    "            a = x\n",
    "        else:\n",
    "            b = x\n",
    "\n",
    "    print(table)\n",
    "\n",
    "    return x\n"
   ]
  },
  {
   "cell_type": "code",
   "execution_count": null,
   "metadata": {},
   "outputs": [],
   "source": [
    "fx = lambda x: x**3 - 9*x + 5\n",
    "a = 0.5\n",
    "b = 1.0\n",
    "precision = 0.01\n",
    "n = 100\n",
    "\n",
    "print(bisseccao(fx, a, b, precision, n))\n",
    "\n",
    "# 0.5703125\n"
   ]
  },
  {
   "cell_type": "code",
   "execution_count": null,
   "metadata": {},
   "outputs": [],
   "source": [
    "fx = lambda x:  x**3 - 9*x + 5\n",
    "a = 0.0\n",
    "b = 1.0\n",
    "precision = 0.0005\n",
    "n = 100\n",
    "\n",
    "print(falsePosition(fx, a, b, precision, n))\n",
    "\n",
    "# 0.5768875239163401"
   ]
  }
 ],
 "metadata": {
  "kernelspec": {
   "display_name": "Python 3",
   "language": "python",
   "name": "python3"
  },
  "language_info": {
   "codemirror_mode": {
    "name": "ipython",
    "version": 3
   },
   "file_extension": ".py",
   "mimetype": "text/x-python",
   "name": "python",
   "nbconvert_exporter": "python",
   "pygments_lexer": "ipython3",
   "version": "3.11.1"
  }
 },
 "nbformat": 4,
 "nbformat_minor": 2
}
