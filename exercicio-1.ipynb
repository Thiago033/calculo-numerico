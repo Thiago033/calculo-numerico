{
 "cells": [
  {
   "cell_type": "code",
   "execution_count": null,
   "metadata": {},
   "outputs": [],
   "source": [
    "import numpy as np\n",
    "import matplotlib.pyplot as plt\n",
    "from prettytable import PrettyTable\n",
    "import math\n",
    "import sympy"
   ]
  },
  {
   "cell_type": "code",
   "execution_count": null,
   "metadata": {},
   "outputs": [],
   "source": [
    "def makeGraph(f, a, b, x):\n",
    "    \n",
    "    x = np.linspace(a, b, 100)\n",
    "    \n",
    "    \n",
    "\n",
    "    \n",
    "    return"
   ]
  },
  {
   "cell_type": "code",
   "execution_count": null,
   "metadata": {},
   "outputs": [],
   "source": [
    "def bisseccao(f, a, b, precision, n):\n",
    "    if f(a) * f(b) >= 0:\n",
    "        return False\n",
    "\n",
    "    table = PrettyTable()\n",
    "    table.field_names = [\"n\", \"a\", \"b\", \"x\"]\n",
    "    \n",
    "    x = a\n",
    "      \n",
    "    for i in range(1, n+1):\n",
    "        if abs(b - a) < precision:\n",
    "            break\n",
    "    \n",
    "        x = (a + b) / 2\n",
    "        \n",
    "        table.add_row([i, a, b, x])\n",
    "        \n",
    "        if f(a) * f(x) > 0:\n",
    "            a = x\n",
    "        else:\n",
    "            b = x\n",
    "    \n",
    "    print(table)\n",
    "    \n",
    "    return x\n"
   ]
  },
  {
   "cell_type": "code",
   "execution_count": null,
   "metadata": {},
   "outputs": [],
   "source": [
    "def falsePosition(f, a, b, precision, n):    \n",
    "    if (f(a) * f(b)) >= 0:\n",
    "        return False\n",
    "    \n",
    "    table = PrettyTable()\n",
    "    table.field_names = [\"n\", \"a\", \"b\", \"x\"]\n",
    "\n",
    "    x = a\n",
    "\n",
    "    for i in range(1, n+1):\n",
    "        if abs(b - a) < precision:\n",
    "            break\n",
    "\n",
    "        x = ((a * f(b)) - (b * f(a))) / (f(b) - f(a))\n",
    "        \n",
    "        table.add_row([i, a, b, x])\n",
    "\n",
    "        if f(a) * f(x) > 0:\n",
    "            a = x\n",
    "        else:\n",
    "            b = x\n",
    "\n",
    "    print(table)\n",
    "    \n",
    "    return x\n"
   ]
  },
  {
   "cell_type": "code",
   "execution_count": null,
   "metadata": {},
   "outputs": [],
   "source": [
    "fx = lambda x: x**3 - 9*x + 5\n",
    "a = 0.5\n",
    "b = 1.0\n",
    "precision = 0.01\n",
    "n = 100\n",
    "\n",
    "print(bisseccao(fx, a, b, precision, n))\n",
    "\n",
    "# 0.5703125\n"
   ]
  },
  {
   "cell_type": "code",
   "execution_count": null,
   "metadata": {},
   "outputs": [],
   "source": [
    "fx = lambda x:  x**3 - 9*x + 5\n",
    "a = 0.0\n",
    "b = 1.0\n",
    "precision = 0.0005\n",
    "n = 100\n",
    "\n",
    "print(falsePosition(fx, a, b, precision, n))\n",
    "\n",
    "# 0.5768875239163401"
   ]
  },
  {
   "cell_type": "code",
   "execution_count": null,
   "metadata": {},
   "outputs": [],
   "source": [
    "fx = lambda x: math.e**x - x - 2\n",
    "a = -2\n",
    "b = 0\n",
    "n = 5\n",
    "\n",
    "print(bisseccao(fx, a, b, precision, n))\n",
    "\n",
    "# -1.8125\n"
   ]
  },
  {
   "cell_type": "code",
   "execution_count": null,
   "metadata": {},
   "outputs": [],
   "source": [
    "fx = lambda x:  2*x**3 + 5*x**2 - 8*x - 10\n",
    "a = 0\n",
    "b = 3\n",
    "precision = 0.05\n",
    "n = 100\n",
    "\n",
    "print(falsePosition(fx, a, b, precision, n))\n",
    "\n",
    "# 1.6739\n"
   ]
  },
  {
   "cell_type": "code",
   "execution_count": null,
   "metadata": {},
   "outputs": [],
   "source": [
    "def newtonRaphson(f, x0, precision, n):\n",
    "    if abs(f(x0)) < precision:\n",
    "        return x1\n",
    "\n",
    "    x_values = []\n",
    "    x = sympy.symbols('x')\n",
    "\n",
    "    def deriv(x_temp):\n",
    "        return sympy.diff(f(x), x).subs(x, x_temp)\n",
    "\n",
    "    table = PrettyTable(['n', 'x^(x0)', 'f(x^(0))', 'f\\'(x^(0))', 'x1'])\n",
    "\n",
    "    x1 = x0 - (f(x0) / deriv(x0))\n",
    "    x_values.append(x0)\n",
    "\n",
    "    for i in range(1, n + 1):\n",
    "        if abs(f(x1)) < precision or abs(x1 - x0) < precision:\n",
    "            break\n",
    "\n",
    "        table.add_row([i, x0, f(x0), deriv(x0), x1])\n",
    "\n",
    "        x_values.append(x1)\n",
    "        x0 = x1\n",
    "        x1 = x0 - (f(x0) / deriv(x0))\n",
    "\n",
    "    table.add_row([i + 1, x0, f(x0), deriv(x0), x1])\n",
    "    x_values.append(x1)\n",
    "\n",
    "    print(table)\n",
    "\n",
    "    return x1\n"
   ]
  },
  {
   "cell_type": "code",
   "execution_count": null,
   "metadata": {},
   "outputs": [],
   "source": [
    "def secant(f, x0, x1, precision, n):\n",
    "    if abs(f(x0)) < precision:\n",
    "        return x0\n",
    "    elif abs(f(x1)) < precision or abs(x1 - x0) < precision:\n",
    "        return x1\n",
    "\n",
    "    x_values = []\n",
    "    x_values.append(x0)\n",
    "\n",
    "    table = PrettyTable(['n', 'x0', 'f(x0)', 'f(x1)', 'x2'])\n",
    "\n",
    "    x2 = x1 - (f(x1) / (f(x1) - f(x0))) * (x1 - x0)\n",
    "\n",
    "    for k in range(1, n + 1):\n",
    "        if abs(f(x2)) < precision or abs(x2 - x1) < precision:\n",
    "            break\n",
    "\n",
    "        table.add_row([k, x0, f(x0), f(x1), x2])\n",
    "        x_values.append(x2)\n",
    "\n",
    "        x0 = x1\n",
    "        x1 = x2\n",
    "        x2 = x1 - (f(x1) / (f(x1) - f(x0))) * (x1 - x0)\n",
    "\n",
    "    table.add_row([k + 1, x0, f(x0), f(x1), x2])\n",
    "\n",
    "    print(table)\n",
    "\n",
    "    return x2\n"
   ]
  }
 ],
 "metadata": {
  "kernelspec": {
   "display_name": "Python 3",
   "language": "python",
   "name": "python3"
  },
  "language_info": {
   "codemirror_mode": {
    "name": "ipython",
    "version": 3
   },
   "file_extension": ".py",
   "mimetype": "text/x-python",
   "name": "python",
   "nbconvert_exporter": "python",
   "pygments_lexer": "ipython3",
   "version": "3.10.9"
  }
 },
 "nbformat": 4,
 "nbformat_minor": 2
}
