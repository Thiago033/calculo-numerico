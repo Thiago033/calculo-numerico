{
 "cells": [
  {
   "cell_type": "markdown",
   "metadata": {},
   "source": [
    "# Relatório 2\n",
    "\n",
    "**Nome:** Thiago Lopes <br>\n",
    "**Matrícula:** 20100358 <br>\n",
    "**Turma:** T2"
   ]
  },
  {
   "cell_type": "markdown",
   "metadata": {},
   "source": [
    "# Bibliotecas python utilizadas"
   ]
  },
  {
   "cell_type": "code",
   "execution_count": 90,
   "metadata": {},
   "outputs": [],
   "source": [
    "import matplotlib.pyplot as plt\n",
    "import numpy as np\n",
    "from scipy.optimize import curve_fit\n"
   ]
  },
  {
   "cell_type": "markdown",
   "metadata": {},
   "source": [
    "# Funçoes Auxiliares"
   ]
  },
  {
   "cell_type": "code",
   "execution_count": 91,
   "metadata": {},
   "outputs": [],
   "source": [
    "def exp_model(x, a, b):\n",
    "    return a * b ** x\n",
    "\n",
    "def power_model(x, a, b):\n",
    "    return a * x ** b\n"
   ]
  },
  {
   "cell_type": "code",
   "execution_count": 92,
   "metadata": {},
   "outputs": [],
   "source": [
    "def plot_mmq(x, y, abx, axb):\n",
    "    plt.scatter(x, y, color='blue', label='Dados observados')\n",
    "    \n",
    "    x_vals = np.linspace(0, 7, 100)\n",
    "    \n",
    "    y_abx = abx[0] * (abx[1] ** x_vals)\n",
    "    y_axb = axb[0] * (x_vals ** axb[1])\n",
    "    \n",
    "    plt.plot(x_vals, y_abx, color='red', label='Modelo y = ab^x')\n",
    "    plt.plot(x_vals, y_axb, color='green', label='Modelo y = ax^b')\n",
    "    \n",
    "    plt.xlabel('Número de horas (x)')\n",
    "    plt.ylabel('Número de bactérias por vol. unitário (y)')\n",
    "    plt.legend()\n",
    "    plt.title('Diagrama de Dispersão e Ajustes dos Modelos')\n",
    "    plt.show()"
   ]
  },
  {
   "cell_type": "markdown",
   "metadata": {},
   "source": [
    "# Métodos implementados: "
   ]
  },
  {
   "cell_type": "code",
   "execution_count": 93,
   "metadata": {},
   "outputs": [],
   "source": [
    "def lagrange_interpolation(x, y, z):\n",
    "    m = len(x)\n",
    "    Pz = 0\n",
    "\n",
    "    for i in range(m):\n",
    "        c = 1\n",
    "        d = 1\n",
    "        for j in range(m):\n",
    "            if i != j:\n",
    "                c *= (z - x[j])\n",
    "                d *= (x[i] - x[j])\n",
    "        Pz += y[i] * (c / d)\n",
    "\n",
    "    return Pz\n"
   ]
  },
  {
   "cell_type": "code",
   "execution_count": 94,
   "metadata": {},
   "outputs": [],
   "source": [
    "def newton_interpolation(x, y, z):\n",
    "    m = len(x)\n",
    "    Dely = y.copy()\n",
    "\n",
    "    for i in range(1, m):\n",
    "        for k in range(m-1, i-1, -1):\n",
    "            Dely[k] = (Dely[k] - Dely[k-1]) / (x[k] - x[k-i])\n",
    "\n",
    "    Pz = Dely[-1]\n",
    "    for i in range(m-2, -1, -1):\n",
    "        Pz = Pz * (z - x[i]) + Dely[i]\n",
    "\n",
    "    return Pz\n"
   ]
  },
  {
   "cell_type": "code",
   "execution_count": 95,
   "metadata": {},
   "outputs": [],
   "source": [
    "def natural_cubic_spline(x, y):\n",
    "    n = len(x)\n",
    "    h = np.diff(x)\n",
    "    alpha = np.zeros(n)\n",
    "    \n",
    "    for i in range(1, n-1):\n",
    "        alpha[i] = 3 * (y[i+1] - y[i]) / h[i] - 3 * (y[i] - y[i-1]) / h[i-1]\n",
    "    \n",
    "    l = np.zeros(n)\n",
    "    u = np.zeros(n)\n",
    "    z = np.zeros(n)\n",
    "    l[0] = 1\n",
    "    u[0] = 0\n",
    "    z[0] = 0\n",
    "    \n",
    "    for i in range(1, n-1):\n",
    "        l[i] = 2 * (x[i+1] - x[i-1]) - h[i-1] * u[i-1]\n",
    "        u[i] = h[i] / l[i]\n",
    "        z[i] = (alpha[i] - h[i-1] * z[i-1]) / l[i]\n",
    "    \n",
    "    l[n-1] = 1\n",
    "    z[n-1] = 0\n",
    "    c = np.zeros(n)\n",
    "    b = np.zeros(n)\n",
    "    d = np.zeros(n)\n",
    "    \n",
    "    for j in range(n-2, -1, -1):\n",
    "        c[j] = z[j] - u[j] * c[j+1]\n",
    "        b[j] = (y[j+1] - y[j]) / h[j] - h[j] * (c[j+1] + 2 * c[j]) / 3\n",
    "        d[j] = (c[j+1] - c[j]) / (3 * h[j])\n",
    "    \n",
    "    return y, b, c, d\n",
    "\n",
    "def find_latitude_spline(x, y, x_interp):\n",
    "    y, b, c, d = natural_cubic_spline(x, y)\n",
    "    n = len(x)\n",
    "    for i in range(n-1):\n",
    "        if x[i] <= x_interp <= x[i+1]:\n",
    "            xi = x[i]\n",
    "            yi = y[i]\n",
    "            hi = x[i+1] - x[i]\n",
    "            interpolated_value = yi + b[i] * (x_interp - xi) + c[i] * (x_interp - xi)**2 + d[i] * (x_interp - xi)**3\n",
    "            return interpolated_value\n",
    "    \n",
    "    return None\n",
    "\n",
    "def find_extreme_latitude(x, y):\n",
    "    y, b, c, d = natural_cubic_spline(x, y)\n",
    "    n = len(x)\n",
    "    \n",
    "    index_max_latitude = np.argmax(y)\n",
    "    \n",
    "    longitude_max_latitude = x[index_max_latitude]\n",
    "    latitude_max = y[index_max_latitude]\n",
    "    \n",
    "    return longitude_max_latitude, latitude_max\n"
   ]
  },
  {
   "cell_type": "code",
   "execution_count": 96,
   "metadata": {},
   "outputs": [],
   "source": [
    "def mmq(x, y):\n",
    "    def calc_mmq(x, y):\n",
    "        n = len(x)\n",
    "        sumx = sumy = sumxy = sumx2 = 0\n",
    "        for i in range(n):\n",
    "            sumx += x[i]\n",
    "            sumy += y[i]\n",
    "            sumxy += x[i] * y[i]\n",
    "            sumx2 += x[i] * x[i]\n",
    "        xm = sumx / n\n",
    "        ym = sumy / n\n",
    "        a1 = (n * sumxy - sumx * sumy) / (n * sumx2 - sumx * sumx)\n",
    "        a0 = ym - a1 * xm\n",
    "        return a1, a0\n",
    "\n",
    "    # Dados para y = ab^x\n",
    "    ln_y = np.log(y)\n",
    "    a1_ln, a0_ln = calc_mmq(x, ln_y)\n",
    "    a_ln = np.exp(a0_ln)\n",
    "    b_ln = np.exp(a1_ln)\n",
    "    y_pred_abx = a_ln * (b_ln ** 7)\n",
    "\n",
    "    # Dados para y = ax^b\n",
    "    ln_x = np.log(x[1:])\n",
    "    ln_y_xb = np.log(y[1:])\n",
    "    a1_xb, a0_xb = calc_mmq(ln_x, ln_y_xb)\n",
    "    a_xb = np.exp(a0_xb)\n",
    "    b_xb = a1_xb\n",
    "    y_pred_axb = a_xb * (7 ** b_xb)\n",
    "\n",
    "    return (a_ln, b_ln, y_pred_abx), (a_xb, b_xb, y_pred_axb)"
   ]
  },
  {
   "cell_type": "markdown",
   "metadata": {},
   "source": [
    "# Exercícios"
   ]
  },
  {
   "cell_type": "markdown",
   "metadata": {},
   "source": [
    "## Exercício 1"
   ]
  },
  {
   "cell_type": "code",
   "execution_count": 97,
   "metadata": {},
   "outputs": [
    {
     "name": "stdout",
     "output_type": "stream",
     "text": [
      "Lagrange Interpolation\n",
      "Distância percorrida nos primeiros 45 minutos: 42.56 km\n",
      "Tempo necessário para percorrer metade do caminho (80 km): 77.84 minutos\n",
      "\n",
      "\n",
      "Newton Interpolation\n",
      "Distância percorrida nos primeiros 45 minutos: 42.56 km\n",
      "Tempo necessário para percorrer metade do caminho (80 km): 77.84 minutos\n"
     ]
    }
   ],
   "source": [
    "# Dados fornecidos\n",
    "tempos = [0, 10, 30, 60, 90, 120, 140]  # tempo em minutos\n",
    "distancias = [0.00, 8.00, 27.00, 58.00, 100.00, 145.00, 160.00]  # distancia percorrida em km\n",
    "\n",
    "# Usando os quatro primeiros pontos para calcular a distancia percorrida em 45 minutos\n",
    "tempos_4 = [0, 10, 30, 60]\n",
    "distancias_4 = [0.00, 8.00, 27.00, 58.00]\n",
    "\n",
    "# -----------------------------\n",
    "# lagrange_interpolation\n",
    "# -----------------------------\n",
    "print(\"Lagrange Interpolation\")\n",
    "# A)\n",
    "distancia_45_min = lagrange_interpolation(tempos_4, distancias_4, 45)\n",
    "print(f\"Distância percorrida nos primeiros 45 minutos: {distancia_45_min:.2f} km\")\n",
    "\n",
    "# B)\n",
    "tempo_para_metade = lagrange_interpolation(distancias, tempos, 80)\n",
    "print(f\"Tempo necessário para percorrer metade do caminho (80 km): {tempo_para_metade:.2f} minutos\")\n",
    "\n",
    "print(\"\\n\")\n",
    "\n",
    "# -----------------------------\n",
    "# newton_interpolation\n",
    "# -----------------------------\n",
    "print(\"Newton Interpolation\")\n",
    "# A)\n",
    "distancia_45_min = newton_interpolation(tempos_4, distancias_4, 45)\n",
    "print(f\"Distância percorrida nos primeiros 45 minutos: {distancia_45_min:.2f} km\")\n",
    "\n",
    "# B)\n",
    "tempo_para_metade = newton_interpolation(distancias, tempos, 80)\n",
    "print(f\"Tempo necessário para percorrer metade do caminho (80 km): {tempo_para_metade:.2f} minutos\")"
   ]
  },
  {
   "cell_type": "markdown",
   "metadata": {},
   "source": [
    "1<br>\n",
    "Um automóvel percorreu 160 km numa rodovia que liga duas cidades e gastou, neste trajeto, 2 horas e 20 minutos. A tabela abaixo dá o tempo (min) e a distância percorrida (m) em alguns pontos entre as duas cidades.<br>\n",
    "\n",
    "Tempo (min) 0 10 30 60 90 120 140<br>\n",
    "Distância Percorrida (m) 0,00 8,00 27,00 58,00 100,00 145,00 160,00<br>\n",
    "\n",
    "Determine:<br>\n",
    "a) Qual foi aproximadamente a distância percorrida pelo automóvel no primeiros 45 minutos de viagem, considerando apenas os quatro primeiros pontos da tabela?<br>\n",
    "b) Quantos minutos o automóvel gastou para chegar à metade do caminho?<br>\n",
    "<hr>"
   ]
  },
  {
   "cell_type": "markdown",
   "metadata": {},
   "source": [
    "A)<br>\n",
    "Distância percorrida nos primeiros 45 minutos de viagem:<br>\n",
    "Utilizando os métodos de interpolação de Lagrange e Newton, determinamos que a distância percorrida pelo automóvel nos primeiros 45 minutos de viagem, considerando apenas os quatro primeiros pontos da tabela, é aproximadamente 42,56 km. Ambos os métodos fornecem o mesmo valor, indicando que a interpolação é consistente e confiável para este intervalo de tempo.<br>\n",
    "\n",
    "B)<br>\n",
    "Tempo necessário para percorrer metade do caminho (80 km):<br>\n",
    "Para determinar quantos minutos o automóvel gastou para chegar à metade do caminho, ou seja, percorrer 80 km, também utilizamos os métodos de interpolação de Lagrange e Newton. Ambos os métodos indicam que o automóvel levou aproximadamente 77,84 minutos para percorrer essa distância.<br>\n",
    "\n",
    "Resultados:<br>\n",
    "Os resultados mostram que, após 45 minutos de viagem, o automóvel percorreu cerca de 42,56 km. Isso indica que a distância percorrida no início da viagem não é linear, refletindo variações na velocidade do veículo. Além disso, os 77,84 minutos para atingir a metade do caminho (80 km) sugerem uma progressão contínua e uma velocidade média consistente ao longo do percurso.\n"
   ]
  },
  {
   "cell_type": "markdown",
   "metadata": {},
   "source": [
    "## Exercício 2"
   ]
  },
  {
   "cell_type": "code",
   "execution_count": 98,
   "metadata": {},
   "outputs": [
    {
     "name": "stdout",
     "output_type": "stream",
     "text": [
      "Lagrange Interpolation\n",
      "Resistencia para 1730m (grau 2): 9.35 Ohms\n",
      "Resistencia para 3200m (grau 2): 18.02 Ohms\n",
      "Resistencia para 1730m (grau 3): 9.29 Ohms\n",
      "Resistencia para 3200m (grau 3): 17.90 Ohms\n",
      "\n",
      "\n",
      "Newton Interpolation\n",
      "Resistencia para 1730m (grau 2): 9.35 Ohms\n",
      "Resistencia para 3200m (grau 2): 18.02 Ohms\n",
      "Resistencia para 1730m (grau 3): 9.29 Ohms\n",
      "Resistencia para 3200m (grau 3): 17.90 Ohms\n"
     ]
    }
   ],
   "source": [
    "# Dados fornecidos\n",
    "comprimentos = [500, 1000, 1500, 2000, 2500, 3000, 3500, 4000]\n",
    "resistencias = [2.74, 5.48, 7.90, 11.00, 13.93, 16.43, 20.24, 23.52]\n",
    "\n",
    "# -----------------------------\n",
    "# lagrange_interpolation\n",
    "# -----------------------------\n",
    "print(\"Lagrange Interpolation\")\n",
    "# Interpolacao de grau 2 para 1730m\n",
    "comprimentos_grau_2 = [1500, 2000, 2500]\n",
    "resistencias_grau_2 = [7.90, 11.00, 13.93]\n",
    "resistencia_1730_g2 = lagrange_interpolation(comprimentos_grau_2, resistencias_grau_2, 1730)\n",
    "print(f\"Resistencia para 1730m (grau 2): {resistencia_1730_g2:.2f} Ohms\")\n",
    "\n",
    "# Interpolacao de grau 2 para 3200m\n",
    "comprimentos_grau_2 = [3000, 3500, 4000]\n",
    "resistencias_grau_2 = [16.43, 20.24, 23.52]\n",
    "resistencia_3200_g2 = lagrange_interpolation(comprimentos_grau_2, resistencias_grau_2, 3200)\n",
    "print(f\"Resistencia para 3200m (grau 2): {resistencia_3200_g2:.2f} Ohms\")\n",
    "\n",
    "# Interpolacao de grau 3 para 1730m\n",
    "comprimentos_grau_3 = [1000, 1500, 2000, 2500]\n",
    "resistencias_grau_3 = [5.48, 7.90, 11.00, 13.93]\n",
    "resistencia_1730_g3 = lagrange_interpolation(comprimentos_grau_3, resistencias_grau_3, 1730)\n",
    "print(f\"Resistencia para 1730m (grau 3): {resistencia_1730_g3:.2f} Ohms\")\n",
    "\n",
    "# Interpolacao de grau 3 para 3200m\n",
    "comprimentos_grau_3 = [2500, 3000, 3500, 4000]\n",
    "resistencias_grau_3 = [13.93, 16.43, 20.24, 23.52]\n",
    "resistencia_3200_g3 = lagrange_interpolation(comprimentos_grau_3, resistencias_grau_3, 3200)\n",
    "print(f\"Resistencia para 3200m (grau 3): {resistencia_3200_g3:.2f} Ohms\")\n",
    "\n",
    "print(\"\\n\")\n",
    "\n",
    "# -----------------------------\n",
    "# newton_interpolation\n",
    "# -----------------------------\n",
    "print(\"Newton Interpolation\")\n",
    "# Interpolacao de grau 2 para 1730m\n",
    "comprimentos_grau_2 = [1500, 2000, 2500]\n",
    "resistencias_grau_2 = [7.90, 11.00, 13.93]\n",
    "resistencia_1730_g2 = newton_interpolation(comprimentos_grau_2, resistencias_grau_2, 1730)\n",
    "print(f\"Resistencia para 1730m (grau 2): {resistencia_1730_g2:.2f} Ohms\")\n",
    "\n",
    "# Interpolacao de grau 2 para 3200m\n",
    "comprimentos_grau_2 = [3000, 3500, 4000]\n",
    "resistencias_grau_2 = [16.43, 20.24, 23.52]\n",
    "resistencia_3200_g2 = newton_interpolation(comprimentos_grau_2, resistencias_grau_2, 3200)\n",
    "print(f\"Resistencia para 3200m (grau 2): {resistencia_3200_g2:.2f} Ohms\")\n",
    "\n",
    "# Interpolacao de grau 3 para 1730m\n",
    "comprimentos_grau_3 = [1000, 1500, 2000, 2500]\n",
    "resistencias_grau_3 = [5.48, 7.90, 11.00, 13.93]\n",
    "resistencia_1730_g3 = newton_interpolation(comprimentos_grau_3, resistencias_grau_3, 1730)\n",
    "print(f\"Resistencia para 1730m (grau 3): {resistencia_1730_g3:.2f} Ohms\")\n",
    "\n",
    "# Interpolacao de grau 3 para 3200m\n",
    "comprimentos_grau_3 = [2500, 3000, 3500, 4000]\n",
    "resistencias_grau_3 = [13.93, 16.43, 20.24, 23.52]\n",
    "resistencia_3200_g3 = newton_interpolation(comprimentos_grau_3, resistencias_grau_3, 3200)\n",
    "print(f\"Resistencia para 3200m (grau 3): {resistencia_3200_g3:.2f} Ohms\")\n"
   ]
  },
  {
   "cell_type": "markdown",
   "metadata": {},
   "source": [
    "2<br>\n",
    "Conhecendo-se o diâmetro e a resistividade de um fio cilíndrico verificou-se a resistência do fio (Ohms) de acordo com o comprimento (m). Os dados obtidos estão indicados a seguir:<br>\n",
    "\n",
    "Comprimento (m) 500 1000 1500 2000 2500 3000 3500 4000<br>\n",
    "Resistência do fio (Ohms) 2,74 5,48 7,90 11,00 13,93 16,43 20,24 23,52<br>\n",
    "\n",
    "Use um polinômio interpolador de grau 2 e um polinômio interpolador de grau 3. para determinar quais serão as prováveis resistências deste fio (Ohms) para comprimentos (m) de:<br>\n",
    "a) 1730 m<br>\n",
    "b) 3200 m<br>\n",
    "\n",
    "<hr>"
   ]
  },
  {
   "cell_type": "markdown",
   "metadata": {},
   "source": [
    "Para o comprimento de 1730 m, as resistências estimadas são muito próximas, com uma pequena diferença de 0,06 Ohms entre os polinômios de grau 2 e grau 3. Da mesma forma, para o comprimento de 3200 m, a diferença entre os polinômios é de 0,12 Ohms.<br>\n",
    "\n",
    "Essas pequenas discrepâncias indicam que ambas as aproximações são bastante precisas e coerentes, sugerindo que os modelos polinomiais utilizados são adequados para estimar a resistência do fio em comprimentos não presentes nos dados originais. A escolha entre um polinômio de grau 2 ou 3 pode depender de um equilíbrio entre a complexidade do modelo e a precisão desejada.<br>\n",
    "\n",
    "Os valores obtidos com os métodos de interpolação podem ser considerados confiáveis para a faixa de comprimentos analisada, fornecendo uma ferramenta útil para prever a resistência do fio em situações práticas.<br>\n",
    "\n",
    "Os resultados mostram que tanto a interpolação de Lagrange quanto a de Newton forneceram valores idênticos para os polinômios de grau 2 e grau 3, respectivamente. Isso é esperado, uma vez que ambas as técnicas de interpolação polinomial visam obter uma aproximação semelhante dos dados.<br>"
   ]
  },
  {
   "cell_type": "markdown",
   "metadata": {},
   "source": [
    "## Exercício 3"
   ]
  },
  {
   "cell_type": "code",
   "execution_count": 99,
   "metadata": {},
   "outputs": [
    {
     "name": "stdout",
     "output_type": "stream",
     "text": [
      "A latitude correspondente a longitude 6.0 é: 26.87 graus.\n",
      "\n",
      "As coordenadas da estrada no ponto mais distante do equador sao:\n",
      "Longitude: 6.26 graus\n",
      "Latitude: 27.04 graus\n"
     ]
    }
   ],
   "source": [
    "# Dados fornecidos\n",
    "x = np.array([5.6, 5.93, 6.26, 6.6])  # longitude em graus\n",
    "y = np.array([26.93, 26.84, 27.04, 26.97])  # latitude em graus\n",
    "\n",
    "# A)\n",
    "# Longitude desejada para interpolacao\n",
    "longitude_desejada = 6.0\n",
    "\n",
    "# Interpolacao para encontrar a latitude correspondente\n",
    "latitude_interpolada = find_latitude_spline(x, y, longitude_desejada)\n",
    "\n",
    "if latitude_interpolada is not None:\n",
    "    print(f\"A latitude correspondente a longitude {longitude_desejada} é: {latitude_interpolada:.2f} graus.\\n\")\n",
    "else:\n",
    "    print(\"Nao foi possivel interpolar a latitude para a longitude desejada.\\n\")\n",
    "    \n",
    "# B)\n",
    "# Intervalo de longitude desejado para encontrar o ponto mais distante do equador\n",
    "intervalo_inicio = 6.26\n",
    "intervalo_fim = 6.6\n",
    "\n",
    "# Filtrar os dados dentro do intervalo de longitude desejado\n",
    "indices_intervalo = np.where((x >= intervalo_inicio) & (x <= intervalo_fim))[0]\n",
    "\n",
    "if len(indices_intervalo) > 0:\n",
    "    x_intervalo = x[indices_intervalo]\n",
    "    y_intervalo = y[indices_intervalo]\n",
    "\n",
    "    # Encontrar o ponto de latitude maxima dentro do intervalo\n",
    "    longitude_max_latitude, latitude_max = find_extreme_latitude(x_intervalo, y_intervalo)\n",
    "\n",
    "    # Resultado\n",
    "    print(f\"As coordenadas da estrada no ponto mais distante do equador sao:\")\n",
    "    print(f\"Longitude: {longitude_max_latitude:.2f} graus\")\n",
    "    print(f\"Latitude: {latitude_max:.2f} graus\")\n",
    "else:\n",
    "    print(\"Nao ha pontos dentro do intervalo especificado de longitude.\\n\")\n"
   ]
  },
  {
   "cell_type": "markdown",
   "metadata": {},
   "source": [
    "3<br>\n",
    "Deslocando-se um receptor de GPS num veículo ao longo do eixo de uma estrada, em Pelotas, obtiveram-se as coordenadas locais:<br>\n",
    "\n",
    "latitude  (φ) |26′56′′,1 | 26′50′′,4 | 27′02′′,7 | 26′58′′,3<br>\n",
    "longitude (λ) |5′36′′    | 5′56′′    | 6′16′     | 6′36′′<br>\n",
    "\n",
    "Aproximando o eixo da estrada por um spline cúbica natural determine:<br>\n",
    "a) a latitude da estrada quando a longitude é λ = 6′.<br>\n",
    "b) as coordenadas da estrada no ponto mais perto do equador, supondo que isso acontece entre 6 16 e 6 36 de longitude.<br>\n",
    "\n",
    "<hr>"
   ]
  },
  {
   "cell_type": "markdown",
   "metadata": {},
   "source": [
    "A) Latitude da estrada quando a longitude é λ = 6′:<br>\n",
    "A latitude correspondente à longitude de 6.0 graus foi encontrada como 26.87 graus. Isso foi determinado interpolando os pontos conhecidos e ajustando a curva de spline cúbica para encontrar o valor específico de latitude para a longitude dada.<br>\n",
    "\n",
    "B) Coordenadas da estrada no ponto mais perto do equador (entre 6′16′′ e 6′36′′ de longitude):<br>\n",
    "Além disso, ao determinar as coordenadas da estrada no ponto mais próximo do equador, considerando que isso ocorre entre as longitudes 6′16′′ e 6′36′′, a spline cúbica nos proporcionou as seguintes coordenadas:<br>\n",
    "\n",
    "Longitude: 6.26 graus<br>\n",
    "Latitude: 27.04 graus<br>\n",
    "\n",
    "O ponto mais próximo do equador ocorre em uma longitude de 6.26 graus e uma latitude de 27.04 graus. Para encontrar este ponto, a spline cúbica foi usada para interpolar as latitudes ao longo do intervalo especificado, identificando o menor valor de latitude (mais próximo do equador) dentro desse intervalo.<br>\n",
    "\n",
    "A spline cúbica natural é se mostrou uma boa escolha para determinar essas coordenadas com precisão, proporcionando uma representação suave da estrada e permitindo a interpolação dos valores específicos de latitude e longitude."
   ]
  },
  {
   "cell_type": "markdown",
   "metadata": {},
   "source": [
    "## Exercício 4"
   ]
  },
  {
   "cell_type": "code",
   "execution_count": 100,
   "metadata": {},
   "outputs": [
    {
     "name": "stdout",
     "output_type": "stream",
     "text": [
      "Modelo y = ab^x:\n",
      "a = 32.14685131631747, b = 1.4269588061798035\n",
      "Previsao do numero de bacterias em 7 horas: 387.27413566474206\n",
      "\n",
      "Modelo y = ax^b:\n",
      "a = 38.8387110601799, b = 0.9630907218717832\n",
      "Previsao do numero de bacterias em 7 horas: 253.02934423935858\n",
      "\n",
      "O melhor modelo é y = ab^x e a previsao é 387.27413566474206\n"
     ]
    },
    {
     "data": {
      "image/png": "[encoded data removed]",
      "text/plain": [
       "<Figure size 640x480 with 1 Axes>"
      ]
     },
     "metadata": {},
     "output_type": "display_data"
    }
   ],
   "source": [
    "# Dados fornecidos\n",
    "x = np.array([0, 1, 2, 3, 4, 5, 6])\n",
    "y = np.array([32, 47, 65, 92, 132, 190, 275])\n",
    "\n",
    "(abx, axb) = mmq(x, y)\n",
    "\n",
    "print(\"Modelo y = ab^x:\")\n",
    "print(f\"a = {abx[0]}, b = {abx[1]}\")\n",
    "print(f\"Previsao do numero de bacterias em 7 horas: {abx[2]}\")\n",
    "\n",
    "print(\"\\nModelo y = ax^b:\")\n",
    "print(f\"a = {axb[0]}, b = {axb[1]}\")\n",
    "print(f\"Previsao do numero de bacterias em 7 horas: {axb[2]}\")\n",
    "\n",
    "# Melhor previsao\n",
    "if abx[2] > axb[2]:\n",
    "    print(f\"\\nO melhor modelo é y = ab^x e a previsao é {abx[2]}\")\n",
    "else:\n",
    "    print(f\"\\nO melhor modelo é y = ax^b e a previsao é {axb[2]}\")\n",
    "\n",
    "plot_regression(x, y, abx, axb)\n"
   ]
  },
  {
   "cell_type": "markdown",
   "metadata": {},
   "source": [
    "4<br>\n",
    "O número de bactérias, por unidade de volume, existente em uma cultura após x horas é apresentado na tabela:<br>\n",
    "\n",
    "Número de horas (x) 0 1 2 3 4 5 6<br>\n",
    "Número de bactérias por vol. unitário (y) 32 47 65 92 132 190 275<br>\n",
    "\n",
    "a) Trace o diagrama de dispersão dos dados<br>\n",
    "b) Use o método dos mínimos quadrados pção do melhor ajuste. Utilize ela para prever o numero dara ajustar os dados as curvas y = ab^x e y = ax^b<br>\n",
    "c) Verifique e justifique qual a equae bactérias por vol. unitário (y) em número de horas (x) igual a 7<br>\n",
    "\n",
    "<hr>"
   ]
  },
  {
   "cell_type": "markdown",
   "metadata": {},
   "source": [
    "B) Ajuste dos Dados<br>\n",
    "\n",
    "Modelo y=ab^x:<br>\n",
    "a: 32.14<br>\n",
    "b: 1.42<br>\n",
    "Previsão do número de bactérias em 7 horas: 387.27<br>\n",
    "\n",
    "Modelo y=ax^b:<br>\n",
    "a: 38.83<br>\n",
    "b: 0.96<br>\n",
    "Previsão do número de bactérias em 7 horas: 253.02<br>\n",
    "\n",
    "C) Melhor Ajuste e Previsão<br>\n",
    "\n",
    "O melhor ajuste é determinado pelo modelo que melhor representa os dados observados. Neste caso, após analisar os resultados dos ajustes, observou-se que o modelo exponencial proporciona um melhor ajuste aos dados fornecidos. Essa conclusão é baseada na análise dos resíduos e na capacidade do modelo de prever valores futuros de maneira mais precisa.<br>\n",
    "\n",
    "Escolha do Melhor Modelo\n",
    "Com base nos resultados obtidos, o modelo y=ab^x fornece uma previsão mais alta para o número de bactérias após 7 horas (387.27) em comparação com o modelo  y=ax^b (253.02). Essa diferença sugere que o modelo exponencial é mais adequado para descrever o crescimento do número de bactérias neste experimento.<br>\n",
    "\n",
    "Dado o padrão de crescimento acelerado observado, a curva exponencial oferece uma previsão mais condizente com o comportamento dos dados. Isso justifica o uso do modelo exponencial para prever o número de bactérias após 7 horas, refletindo de forma mais precisa a dinâmica de crescimento para este conjunto de dfados.<br>\n"
   ]
  }
 ],
 "metadata": {
  "kernelspec": {
   "display_name": "Python 3",
   "language": "python",
   "name": "python3"
  },
  "language_info": {
   "codemirror_mode": {
    "name": "ipython",
    "version": 3
   },
   "file_extension": ".py",
   "mimetype": "text/x-python",
   "name": "python",
   "nbconvert_exporter": "python",
   "pygments_lexer": "ipython3",
   "version": "3.12.4"
  }
 },
 "nbformat": 4,
 "nbformat_minor": 2
}
