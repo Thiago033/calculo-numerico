{
 "cells": [
  {
   "cell_type": "markdown",
   "metadata": {},
   "source": [
    "# Relatório 2\n",
    "\n",
    "**Nome:** Thiago Lopes <br>\n",
    "**Matrícula:** 20100358 <br>\n",
    "**Turma:** T2"
   ]
  },
  {
   "cell_type": "markdown",
   "metadata": {},
   "source": [
    "# Bibliotecas python utilizadas"
   ]
  },
  {
   "cell_type": "code",
   "execution_count": null,
   "metadata": {},
   "outputs": [],
   "source": [
    "import numpy as np\n"
   ]
  },
  {
   "cell_type": "markdown",
   "metadata": {},
   "source": [
    "# Funçoes Auxiliares"
   ]
  },
  {
   "cell_type": "code",
   "execution_count": null,
   "metadata": {},
   "outputs": [],
   "source": []
  },
  {
   "cell_type": "markdown",
   "metadata": {},
   "source": [
    "# Métodos implementados: "
   ]
  },
  {
   "cell_type": "code",
   "execution_count": null,
   "metadata": {},
   "outputs": [],
   "source": [
    "def Trap_combined(h, f):\n",
    "    n = len(f) - 1\n",
    "    if n == 1:\n",
    "        # Caso de um único segmento\n",
    "        return h * (f[0] + f[1]) / 2\n",
    "    else:\n",
    "        # Caso de múltiplos segmentos\n",
    "        sum = f[0]\n",
    "        for i in range(1, n):\n",
    "            sum += 2 * f[i]\n",
    "        sum += f[n]\n",
    "        return h * sum / 2\n",
    "\n",
    "# Exemplo de uso para um único segmento\n",
    "h = 0.5\n",
    "f_single = [1.0, 2.0]\n",
    "resultado_single = Trap_combined(h, f_single)\n",
    "print(\"Resultado Trap (único segmento):\", resultado_single)\n",
    "\n",
    "# Exemplo de uso para múltiplos segmentos\n",
    "h = 0.5\n",
    "f_multiple = [1.0, 2.0, 3.0, 4.0, 5.0]  # Exemplo de lista de valores de f(x)\n",
    "resultado_multiple = Trap_combined(h, f_multiple)\n",
    "print(\"Resultado Trap (múltiplos segmentos):\", resultado_multiple)\n"
   ]
  },
  {
   "cell_type": "code",
   "execution_count": null,
   "metadata": {},
   "outputs": [],
   "source": [
    "def Simp13_combined(h, n, f):\n",
    "    def Simp13(h, f0, f1, f2):\n",
    "        return 2 * h * (f0 + 4 * f1 + f2) / 6\n",
    "\n",
    "    sum = f(0)\n",
    "    for i in range(1, n - 1, 2):\n",
    "        sum += 4 * f(i) + 2 * f(i + 1)\n",
    "    sum += 4 * f(n - 1) + f(n)\n",
    "    return h * sum / 3\n"
   ]
  },
  {
   "cell_type": "code",
   "execution_count": null,
   "metadata": {},
   "outputs": [],
   "source": [
    "def Simp38_combined(a, b, n, f):\n",
    "    def Simp38(h, f0, f1, f2, f3):\n",
    "        return 3 * h * (f0 + 3 * (f1 + f2) + f3) / 8\n",
    "\n",
    "    def Trap(h, f0, f1):\n",
    "        return h * (f0 + f1) / 2\n",
    "\n",
    "    h = (b - a) / n\n",
    "    if n == 1:\n",
    "        return Trap(h, f(n - 1), f(n))\n",
    "    else:\n",
    "        sum = 0\n",
    "        m = n\n",
    "        odd = n % 2\n",
    "        if odd > 0 and n > 1:\n",
    "            sum += Simp38(h, f(n - 3), f(n - 2), f(n - 1), f(n))\n",
    "            m = n - 3\n",
    "        if m > 1:\n",
    "            sum += Simp13_combined(h, m, f)\n",
    "        return sum\n"
   ]
  },
  {
   "cell_type": "code",
   "execution_count": null,
   "metadata": {},
   "outputs": [],
   "source": [
    "def euler_method(f, a, b, y0, m):\n",
    "    h = (b - a) / m\n",
    "    x = a\n",
    "    y = y0\n",
    "    \n",
    "    VetX = [x]\n",
    "    VetY = [y]\n",
    "    \n",
    "    for i in range(1, m + 1):\n",
    "        fxy = f(x, y)\n",
    "        x = a + i * h\n",
    "        y = y + h * fxy\n",
    "        \n",
    "        VetX.append(x)\n",
    "        VetY.append(y)\n",
    "    \n",
    "    return VetX, VetY\n",
    "\n",
    "# Exemplo de uso\n",
    "if __name__ == \"__main__\":\n",
    "    # Definir a função f(x, y)\n",
    "    def f(x, y):\n",
    "        return x + y\n",
    "\n",
    "    # Parâmetros de entrada\n",
    "    a = 0  # Limite inferior\n",
    "    b = 1  # Limite superior\n",
    "    y0 = 1 # Valor inicial\n",
    "    m = 10 # Número de subintervalos\n",
    "\n",
    "    # Resolver o PVI pelo método de Euler\n",
    "    VetX, VetY = euler_method(f, a, b, y0, m)\n",
    "\n",
    "    # Imprimir os resultados\n",
    "    for i in range(len(VetX)):\n",
    "        print(f\"x_{i} = {VetX[i]:.4f}, y_{i} = {VetY[i]:.4f}\")\n"
   ]
  },
  {
   "cell_type": "markdown",
   "metadata": {},
   "source": [
    "# Exercícios"
   ]
  },
  {
   "cell_type": "markdown",
   "metadata": {},
   "source": [
    "## Exercício 1"
   ]
  },
  {
   "cell_type": "code",
   "execution_count": null,
   "metadata": {},
   "outputs": [],
   "source": []
  },
  {
   "cell_type": "markdown",
   "metadata": {},
   "source": []
  },
  {
   "cell_type": "markdown",
   "metadata": {},
   "source": [
    "## Exercício 2"
   ]
  },
  {
   "cell_type": "code",
   "execution_count": null,
   "metadata": {},
   "outputs": [],
   "source": []
  },
  {
   "cell_type": "markdown",
   "metadata": {},
   "source": []
  }
 ],
 "metadata": {
  "kernelspec": {
   "display_name": "Python 3",
   "language": "python",
   "name": "python3"
  },
  "language_info": {
   "codemirror_mode": {
    "name": "ipython",
    "version": 3
   },
   "file_extension": ".py",
   "mimetype": "text/x-python",
   "name": "python",
   "nbconvert_exporter": "python",
   "pygments_lexer": "ipython3",
   "version": "3.10.9"
  }
 },
 "nbformat": 4,
 "nbformat_minor": 2
}
