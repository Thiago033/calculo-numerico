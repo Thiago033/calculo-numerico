{
 "cells": [
  {
   "cell_type": "markdown",
   "metadata": {},
   "source": [
    "# Relatório 2\n",
    "\n",
    "**Nome:** Thiago Lopes <br>\n",
    "**Matrícula:** 20100358 <br>\n",
    "**Turma:** T2"
   ]
  },
  {
   "cell_type": "markdown",
   "metadata": {},
   "source": [
    "# Bibliotecas python utilizadas"
   ]
  },
  {
   "cell_type": "code",
   "execution_count": null,
   "metadata": {},
   "outputs": [],
   "source": [
    "import matplotlib.pyplot as plt\n",
    "import numpy as np\n",
    "from scipy.optimize import curve_fit\n"
   ]
  },
  {
   "cell_type": "markdown",
   "metadata": {},
   "source": [
    "# Funçoes Auxiliares"
   ]
  },
  {
   "cell_type": "code",
   "execution_count": null,
   "metadata": {},
   "outputs": [],
   "source": [
    "def exp_model(x, a, b):\n",
    "    return a * b ** x\n",
    "\n",
    "def power_model(x, a, b):\n",
    "    return a * x ** b\n"
   ]
  },
  {
   "cell_type": "code",
   "execution_count": null,
   "metadata": {},
   "outputs": [],
   "source": [
    "def grafico_mmq(params_exp, params_power):\n",
    "    # Valores preditos para plotagem das curvas\n",
    "    x_pred = np.linspace(0, 7, 100)\n",
    "    y_pred_exp = exp_model(x_pred, *params_exp)\n",
    "    y_pred_power = power_model(x_pred, *params_power)\n",
    "\n",
    "    # Plotar o diagrama de dispersão e as curvas de ajuste\n",
    "    plt.figure(figsize=(8, 6))\n",
    "    plt.scatter(x, y, color='blue', label='Dados')\n",
    "    plt.plot(x_pred, y_pred_exp, color='green', label='Ajuste Exponencial')\n",
    "    plt.plot(x_pred, y_pred_power, color='red', label='Ajuste de Potência')\n",
    "    plt.title('Diagrama de Dispersão e Curvas de Ajuste')\n",
    "    plt.xlabel('Horas (x)')\n",
    "    plt.ylabel('Número de Bactérias por Volume Unitário (y)')\n",
    "    plt.grid(True)\n",
    "    plt.legend()\n",
    "    plt.show()\n",
    "    "
   ]
  },
  {
   "cell_type": "markdown",
   "metadata": {},
   "source": [
    "# Métodos implementados: "
   ]
  },
  {
   "cell_type": "code",
   "execution_count": null,
   "metadata": {},
   "outputs": [],
   "source": [
    "def lagrange_interpolation(x, y, z):\n",
    "    m = len(x)\n",
    "    Pz = 0\n",
    "\n",
    "    for i in range(m):\n",
    "        c = 1\n",
    "        d = 1\n",
    "        for j in range(m):\n",
    "            if i != j:\n",
    "                c *= (z - x[j])\n",
    "                d *= (x[i] - x[j])\n",
    "        Pz += y[i] * (c / d)\n",
    "\n",
    "    return Pz\n"
   ]
  },
  {
   "cell_type": "code",
   "execution_count": null,
   "metadata": {},
   "outputs": [],
   "source": [
    "def newton_interpolation(x, y, z):\n",
    "    m = len(x)\n",
    "    Dely = y.copy()\n",
    "\n",
    "    # Construção das diferenças divididas\n",
    "    for i in range(1, m):\n",
    "        for k in range(m-1, i-1, -1):\n",
    "            Dely[k] = (Dely[k] - Dely[k-1]) / (x[k] - x[k-i])\n",
    "\n",
    "    # Avaliação do polinômio pelo método de Horner\n",
    "    Pz = Dely[-1]\n",
    "    for i in range(m-2, -1, -1):\n",
    "        Pz = Pz * (z - x[i]) + Dely[i]\n",
    "\n",
    "    return Pz\n"
   ]
  },
  {
   "cell_type": "code",
   "execution_count": null,
   "metadata": {},
   "outputs": [],
   "source": [
    "def spline_cubica_natural(x, y):\n",
    "    n = len(x)\n",
    "    h = np.diff(x)\n",
    "    alpha = np.zeros(n)\n",
    "    for i in range(1, n-1):\n",
    "        alpha[i] = 3 * (y[i+1] - y[i]) / h[i] - 3 * (y[i] - y[i-1]) / h[i-1]\n",
    "    \n",
    "    l = np.zeros(n)\n",
    "    u = np.zeros(n)\n",
    "    z = np.zeros(n)\n",
    "    l[0] = 1\n",
    "    u[0] = 0\n",
    "    z[0] = 0\n",
    "    \n",
    "    for i in range(1, n-1):\n",
    "        l[i] = 2 * (x[i+1] - x[i-1]) - h[i-1] * u[i-1]\n",
    "        u[i] = h[i] / l[i]\n",
    "        z[i] = (alpha[i] - h[i-1] * z[i-1]) / l[i]\n",
    "    \n",
    "    l[n-1] = 1\n",
    "    z[n-1] = 0\n",
    "    c = np.zeros(n)\n",
    "    b = np.zeros(n)\n",
    "    d = np.zeros(n)\n",
    "    \n",
    "    for j in range(n-2, -1, -1):\n",
    "        c[j] = z[j] - u[j] * c[j+1]\n",
    "        b[j] = (y[j+1] - y[j]) / h[j] - h[j] * (c[j+1] + 2 * c[j]) / 3\n",
    "        d[j] = (c[j+1] - c[j]) / (3 * h[j])\n",
    "    \n",
    "    return y, b, c, d\n",
    "\n",
    "def encontrar_latitude_spline(x, y, x_interp):\n",
    "    y, b, c, d = spline_cubica_natural(x, y)\n",
    "    n = len(x)\n",
    "    for i in range(n-1):\n",
    "        if x[i] <= x_interp <= x[i+1]:\n",
    "            xi = x[i]\n",
    "            yi = y[i]\n",
    "            hi = x[i+1] - x[i]\n",
    "            interpolated_value = yi + b[i] * (x_interp - xi) + c[i] * (x_interp - xi)**2 + d[i] * (x_interp - xi)**3\n",
    "            return interpolated_value\n",
    "    \n",
    "    # Se não encontrou o intervalo adequado (o que não deveria acontecer neste caso), retornar None\n",
    "    return None\n",
    "\n",
    "def encontrar_extremo_latitude(x, y):\n",
    "    y, b, c, d = spline_cubica_natural(x, y)\n",
    "    n = len(x)\n",
    "    \n",
    "    # Encontrar o índice do ponto de latitude máxima\n",
    "    index_max_latitude = np.argmax(y)\n",
    "    \n",
    "    # Retornar as coordenadas desse ponto\n",
    "    longitude_max_latitude = x[index_max_latitude]\n",
    "    latitude_max = y[index_max_latitude]\n",
    "    \n",
    "    return longitude_max_latitude, latitude_max\n"
   ]
  },
  {
   "cell_type": "code",
   "execution_count": null,
   "metadata": {},
   "outputs": [],
   "source": [
    "def ajustar_bacterias(x, y):\n",
    "\n",
    "    # Ajuste dos dados para y = ab^x\n",
    "    params_exp, _ = curve_fit(exp_model, x, y)\n",
    "    a_exp, b_exp = params_exp\n",
    "    y_exp_fit = exp_model(x, *params_exp)\n",
    "\n",
    "    # Ajuste dos dados para y = ax^b (excluindo x=0)\n",
    "    x_nonzero = x[1:]\n",
    "    y_nonzero = y[1:]\n",
    "\n",
    "    params_power, _ = curve_fit(power_model, x_nonzero, y_nonzero)\n",
    "    a_power, b_power = params_power\n",
    "    y_power_fit = power_model(x_nonzero, *params_power)\n",
    "\n",
    "    return (a_exp, b_exp), (a_power, b_power)\n"
   ]
  },
  {
   "cell_type": "markdown",
   "metadata": {},
   "source": [
    "# Exercícios"
   ]
  },
  {
   "cell_type": "markdown",
   "metadata": {},
   "source": [
    "## Exercício 1"
   ]
  },
  {
   "cell_type": "code",
   "execution_count": null,
   "metadata": {},
   "outputs": [],
   "source": [
    "# Dados fornecidos\n",
    "tempos = [0, 10, 30, 60, 90, 120, 140]  # tempo em minutos\n",
    "distancias = [0.00, 8.00, 27.00, 58.00, 100.00, 145.00, 160.00]  # distância percorrida em km\n",
    "\n",
    "# Usando os quatro primeiros pontos para calcular a distância percorrida em 45 minutos\n",
    "tempos_4 = [0, 10, 30, 60]\n",
    "distancias_4 = [0.00, 8.00, 27.00, 58.00]\n",
    "\n",
    "# -----------------------------\n",
    "# lagrange_interpolation\n",
    "# -----------------------------\n",
    "print(\"Lagrange Interpolation\")\n",
    "# A)\n",
    "distancia_45_min = lagrange_interpolation(tempos_4, distancias_4, 45)\n",
    "print(f\"Distância percorrida nos primeiros 45 minutos: {distancia_45_min:.2f} km\")\n",
    "\n",
    "# B)\n",
    "tempo_para_metade = lagrange_interpolation(distancias, tempos, 80)\n",
    "print(f\"Tempo necessário para percorrer metade do caminho (80 km): {tempo_para_metade:.2f} minutos\")\n",
    "\n",
    "print(\"\\n\")\n",
    "\n",
    "# -----------------------------\n",
    "# newton_interpolation\n",
    "# -----------------------------\n",
    "print(\"Newton Interpolation\")\n",
    "# A)\n",
    "distancia_45_min = newton_interpolation(tempos_4, distancias_4, 45)\n",
    "print(f\"Distância percorrida nos primeiros 45 minutos: {distancia_45_min:.2f} km\")\n",
    "\n",
    "# B)\n",
    "tempo_para_metade = newton_interpolation(distancias, tempos, 80)\n",
    "print(f\"Tempo necessário para percorrer metade do caminho (80 km): {tempo_para_metade:.2f} minutos\")"
   ]
  },
  {
   "cell_type": "markdown",
   "metadata": {},
   "source": [
    "## Exercício 2"
   ]
  },
  {
   "cell_type": "code",
   "execution_count": null,
   "metadata": {},
   "outputs": [],
   "source": [
    "# Dados fornecidos\n",
    "comprimentos = [500, 1000, 1500, 2000, 2500, 3000, 3500, 4000]\n",
    "resistencias = [2.74, 5.48, 7.90, 11.00, 13.93, 16.43, 20.24, 23.52]\n",
    "\n",
    "# -----------------------------\n",
    "# lagrange_interpolation\n",
    "# -----------------------------\n",
    "print(\"Lagrange Interpolation\")\n",
    "# Interpolação de grau 2 para 1730 m\n",
    "comprimentos_grau_2 = [1500, 2000, 2500]\n",
    "resistencias_grau_2 = [7.90, 11.00, 13.93]\n",
    "resistencia_1730_g2 = lagrange_interpolation(comprimentos_grau_2, resistencias_grau_2, 1730)\n",
    "print(f\"Resistência para 1730 m (grau 2): {resistencia_1730_g2:.2f} Ohms\")\n",
    "\n",
    "# Interpolação de grau 2 para 3200 m\n",
    "comprimentos_grau_2 = [3000, 3500, 4000]\n",
    "resistencias_grau_2 = [16.43, 20.24, 23.52]\n",
    "resistencia_3200_g2 = lagrange_interpolation(comprimentos_grau_2, resistencias_grau_2, 3200)\n",
    "print(f\"Resistência para 3200 m (grau 2): {resistencia_3200_g2:.2f} Ohms\")\n",
    "\n",
    "# Interpolação de grau 3 para 1730 m\n",
    "comprimentos_grau_3 = [1000, 1500, 2000, 2500]\n",
    "resistencias_grau_3 = [5.48, 7.90, 11.00, 13.93]\n",
    "resistencia_1730_g3 = lagrange_interpolation(comprimentos_grau_3, resistencias_grau_3, 1730)\n",
    "print(f\"Resistência para 1730 m (grau 3): {resistencia_1730_g3:.2f} Ohms\")\n",
    "\n",
    "# Interpolação de grau 3 para 3200 m\n",
    "comprimentos_grau_3 = [2500, 3000, 3500, 4000]\n",
    "resistencias_grau_3 = [13.93, 16.43, 20.24, 23.52]\n",
    "resistencia_3200_g3 = lagrange_interpolation(comprimentos_grau_3, resistencias_grau_3, 3200)\n",
    "print(f\"Resistência para 3200 m (grau 3): {resistencia_3200_g3:.2f} Ohms\")\n",
    "\n",
    "print(\"\\n\")\n",
    "\n",
    "# -----------------------------\n",
    "# newton_interpolation\n",
    "# -----------------------------\n",
    "print(\"Newton Interpolation\")\n",
    "# Interpolação de grau 2 para 1730 m\n",
    "comprimentos_grau_2 = [1500, 2000, 2500]\n",
    "resistencias_grau_2 = [7.90, 11.00, 13.93]\n",
    "resistencia_1730_g2 = newton_interpolation(comprimentos_grau_2, resistencias_grau_2, 1730)\n",
    "print(f\"Resistência para 1730 m (grau 2): {resistencia_1730_g2:.2f} Ohms\")\n",
    "\n",
    "# Interpolação de grau 2 para 3200 m\n",
    "comprimentos_grau_2 = [3000, 3500, 4000]\n",
    "resistencias_grau_2 = [16.43, 20.24, 23.52]\n",
    "resistencia_3200_g2 = newton_interpolation(comprimentos_grau_2, resistencias_grau_2, 3200)\n",
    "print(f\"Resistência para 3200 m (grau 2): {resistencia_3200_g2:.2f} Ohms\")\n",
    "\n",
    "# Interpolação de grau 3 para 1730 m\n",
    "comprimentos_grau_3 = [1000, 1500, 2000, 2500]\n",
    "resistencias_grau_3 = [5.48, 7.90, 11.00, 13.93]\n",
    "resistencia_1730_g3 = newton_interpolation(comprimentos_grau_3, resistencias_grau_3, 1730)\n",
    "print(f\"Resistência para 1730 m (grau 3): {resistencia_1730_g3:.2f} Ohms\")\n",
    "\n",
    "# Interpolação de grau 3 para 3200 m\n",
    "comprimentos_grau_3 = [2500, 3000, 3500, 4000]\n",
    "resistencias_grau_3 = [13.93, 16.43, 20.24, 23.52]\n",
    "resistencia_3200_g3 = newton_interpolation(comprimentos_grau_3, resistencias_grau_3, 3200)\n",
    "print(f\"Resistência para 3200 m (grau 3): {resistencia_3200_g3:.2f} Ohms\")\n"
   ]
  },
  {
   "cell_type": "markdown",
   "metadata": {},
   "source": [
    "## Exercício 3"
   ]
  },
  {
   "cell_type": "code",
   "execution_count": null,
   "metadata": {},
   "outputs": [],
   "source": [
    "# Dados do problema\n",
    "x = np.array([5.6, 5.93, 6.26, 6.6])  # longitude em graus\n",
    "y = np.array([26.93, 26.84, 27.04, 26.97])  # latitude em graus\n",
    "\n",
    "# A)\n",
    "# Longitude desejada para interpolação\n",
    "longitude_desejada = 6.0\n",
    "\n",
    "# Interpolação para encontrar a latitude correspondente\n",
    "latitude_interpolada = encontrar_latitude_spline(x, y, longitude_desejada)\n",
    "\n",
    "if latitude_interpolada is not None:\n",
    "    print(f\"A latitude correspondente à longitude {longitude_desejada} é: {latitude_interpolada:.2f} graus.\\n\")\n",
    "else:\n",
    "    print(\"Não foi possível interpolar a latitude para a longitude desejada.\\n\")\n",
    "    \n",
    "    \n",
    "    \n",
    "# B)\n",
    "# Intervalo de longitude desejado para encontrar o ponto mais distante do equador\n",
    "intervalo_inicio = 6.26\n",
    "intervalo_fim = 6.6\n",
    "\n",
    "# Filtrar os dados dentro do intervalo de longitude desejado\n",
    "indices_intervalo = np.where((x >= intervalo_inicio) & (x <= intervalo_fim))[0]\n",
    "\n",
    "if len(indices_intervalo) > 0:\n",
    "    x_intervalo = x[indices_intervalo]\n",
    "    y_intervalo = y[indices_intervalo]\n",
    "\n",
    "    # Encontrar o ponto de latitude máxima dentro do intervalo\n",
    "    longitude_max_latitude, latitude_max = encontrar_extremo_latitude(x_intervalo, y_intervalo)\n",
    "\n",
    "    # Resultado\n",
    "    print(f\"As coordenadas da estrada no ponto mais distante do equador são:\")\n",
    "    print(f\"Longitude: {longitude_max_latitude:.2f} graus\")\n",
    "    print(f\"Latitude: {latitude_max:.2f} graus\")\n",
    "else:\n",
    "    print(\"Não há pontos dentro do intervalo especificado de longitude.\\n\")\n"
   ]
  },
  {
   "cell_type": "markdown",
   "metadata": {},
   "source": [
    "## Exercício 4"
   ]
  },
  {
   "cell_type": "code",
   "execution_count": null,
   "metadata": {},
   "outputs": [],
   "source": [
    "# Dados fornecidos\n",
    "x = np.array([0, 1, 2, 3, 4, 5, 6])\n",
    "y = np.array([32, 47, 65, 92, 132, 190, 275])\n",
    "\n",
    "# Ajustar os dados\n",
    "params_exp, params_power = ajustar_bacterias(x, y)\n",
    "\n",
    "print(f\"Ajuste para y = ab^x: a = {params_exp[0]:.4f}, b = {params_exp[1]:.4f}\")\n",
    "print(f\"Ajuste para y = ax^b: a = {params_power[0]:.4f}, b = {params_power[1]:.4f}\\n\")\n",
    "\n",
    "\n",
    "# Prever o número de bactérias em 7 horas\n",
    "x_pred = 7\n",
    "\n",
    "# Exp\n",
    "a, b = params_exp[0], params_exp[1]\n",
    "y_pred = a * b ** x_pred\n",
    "\n",
    "# # Power\n",
    "# a, b = params_power[0], params_power[1]\n",
    "# y_pred = a * x_pred ** b\n",
    "\n",
    "print(f\"Previsão para 7 horas: y = {y_pred:.4f}\")\n",
    "\n",
    "\n",
    "grafico_mmq(params_exp, params_power)\n"
   ]
  }
 ],
 "metadata": {
  "kernelspec": {
   "display_name": "Python 3",
   "language": "python",
   "name": "python3"
  },
  "language_info": {
   "codemirror_mode": {
    "name": "ipython",
    "version": 3
   },
   "file_extension": ".py",
   "mimetype": "text/x-python",
   "name": "python",
   "nbconvert_exporter": "python",
   "pygments_lexer": "ipython3",
   "version": "3.12.3"
  }
 },
 "nbformat": 4,
 "nbformat_minor": 2
}
