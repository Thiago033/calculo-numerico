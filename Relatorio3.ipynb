{
 "cells": [
  {
   "cell_type": "markdown",
   "metadata": {},
   "source": [
    "# Relatório 2\n",
    "\n",
    "**Nome:** Thiago Lopes <br>\n",
    "**Matrícula:** 20100358 <br>\n",
    "**Turma:** T2"
   ]
  },
  {
   "cell_type": "markdown",
   "metadata": {},
   "source": [
    "# Bibliotecas python utilizadas"
   ]
  },
  {
   "cell_type": "code",
   "execution_count": null,
   "metadata": {},
   "outputs": [],
   "source": [
    "import matplotlib.pyplot as plt\n",
    "import numpy as np\n"
   ]
  },
  {
   "cell_type": "markdown",
   "metadata": {},
   "source": [
    "# Funçoes Auxiliares"
   ]
  },
  {
   "cell_type": "code",
   "execution_count": null,
   "metadata": {},
   "outputs": [],
   "source": [
    "def grafico_mmq(x, y, f, tipo, valor):\n",
    "    plt.scatter(x, y, label='Pontos', color='red')\n",
    "    \n",
    "    x_values = np.linspace(min(x), max(x), 100)\n",
    "    y_values = [f(x_val) for x_val in x_values]\n",
    "    \n",
    "    plt.plot(x_values, y_values, label=tipo)\n",
    "    \n",
    "    plt.scatter(valor, f(valor), color='green', label='Valor {}'.format(valor))\n",
    "    \n",
    "    plt.xlabel('X')\n",
    "    plt.ylabel('f(X)')\n",
    "    \n",
    "    plt.title('Gráfico MMQ')\n",
    "    \n",
    "    plt.legend()\n",
    "    \n",
    "    plt.grid(True)\n",
    "    \n",
    "    plt.show()\n",
    "    "
   ]
  },
  {
   "cell_type": "markdown",
   "metadata": {},
   "source": [
    "# Métodos implementados: "
   ]
  },
  {
   "cell_type": "code",
   "execution_count": null,
   "metadata": {},
   "outputs": [],
   "source": [
    "def lagrange_interpolation(x, y, z):\n",
    "    m = len(x)\n",
    "    Pz = 0\n",
    "\n",
    "    for i in range(m):\n",
    "        c = 1\n",
    "        d = 1\n",
    "        for j in range(m):\n",
    "            if i != j:\n",
    "                c *= (z - x[j])\n",
    "                d *= (x[i] - x[j])\n",
    "        Pz += y[i] * (c / d)\n",
    "\n",
    "    return Pz\n"
   ]
  },
  {
   "cell_type": "code",
   "execution_count": null,
   "metadata": {},
   "outputs": [],
   "source": [
    "def newton_interpolation(x, y, z):\n",
    "    m = len(x)\n",
    "    Dely = y.copy()\n",
    "\n",
    "    # Construção das diferenças divididas\n",
    "    for i in range(1, m):\n",
    "        for k in range(m-1, i-1, -1):\n",
    "            Dely[k] = (Dely[k] - Dely[k-1]) / (x[k] - x[k-i])\n",
    "\n",
    "    # Avaliação do polinômio pelo método de Horner\n",
    "    Pz = Dely[-1]\n",
    "    for i in range(m-2, -1, -1):\n",
    "        Pz = Pz * (z - x[i]) + Dely[i]\n",
    "\n",
    "    return Pz\n"
   ]
  },
  {
   "cell_type": "code",
   "execution_count": null,
   "metadata": {},
   "outputs": [],
   "source": [
    "#TODO spline natural\n",
    "def spline_natural():\n",
    "    return"
   ]
  },
  {
   "cell_type": "code",
   "execution_count": null,
   "metadata": {},
   "outputs": [],
   "source": []
  },
  {
   "cell_type": "markdown",
   "metadata": {},
   "source": [
    "# Exercícios"
   ]
  },
  {
   "cell_type": "markdown",
   "metadata": {},
   "source": [
    "## Exercício 1"
   ]
  },
  {
   "cell_type": "code",
   "execution_count": null,
   "metadata": {},
   "outputs": [],
   "source": [
    "# Dados fornecidos\n",
    "tempos = [0, 10, 30, 60, 90, 120, 140]  # tempo em minutos\n",
    "distancias = [0.00, 8.00, 27.00, 58.00, 100.00, 145.00, 160.00]  # distância percorrida em km\n",
    "\n",
    "# Usando os quatro primeiros pontos para calcular a distância percorrida em 45 minutos\n",
    "tempos_4 = [0, 10, 30, 60]\n",
    "distancias_4 = [0.00, 8.00, 27.00, 58.00]\n",
    "\n",
    "# -----------------------------\n",
    "# lagrange_interpolation\n",
    "# -----------------------------\n",
    "print(\"Lagrange Interpolation\")\n",
    "# A)\n",
    "distancia_45_min = lagrange_interpolation(tempos_4, distancias_4, 45)\n",
    "print(f\"Distância percorrida nos primeiros 45 minutos: {distancia_45_min:.2f} km\")\n",
    "\n",
    "# B)\n",
    "tempo_para_metade = lagrange_interpolation(distancias, tempos, 80)\n",
    "print(f\"Tempo necessário para percorrer metade do caminho (80 km): {tempo_para_metade:.2f} minutos\")\n",
    "\n",
    "print(\"\\n\")\n",
    "\n",
    "# -----------------------------\n",
    "# newton_interpolation\n",
    "# -----------------------------\n",
    "print(\"Newton Interpolation\")\n",
    "# A)\n",
    "distancia_45_min = newton_interpolation(tempos_4, distancias_4, 45)\n",
    "print(f\"Distância percorrida nos primeiros 45 minutos: {distancia_45_min:.2f} km\")\n",
    "\n",
    "# B)\n",
    "tempo_para_metade = newton_interpolation(distancias, tempos, 80)\n",
    "print(f\"Tempo necessário para percorrer metade do caminho (80 km): {tempo_para_metade:.2f} minutos\")"
   ]
  },
  {
   "cell_type": "markdown",
   "metadata": {},
   "source": [
    "## Exercício 2"
   ]
  },
  {
   "cell_type": "code",
   "execution_count": null,
   "metadata": {},
   "outputs": [],
   "source": [
    "# Dados fornecidos\n",
    "comprimentos = [500, 1000, 1500, 2000, 2500, 3000, 3500, 4000]\n",
    "resistencias = [2.74, 5.48, 7.90, 11.00, 13.93, 16.43, 20.24, 23.52]\n",
    "\n",
    "# -----------------------------\n",
    "# lagrange_interpolation\n",
    "# -----------------------------\n",
    "print(\"Lagrange Interpolation\")\n",
    "# Interpolação de grau 2 para 1730 m\n",
    "comprimentos_grau_2 = [1500, 2000, 2500]\n",
    "resistencias_grau_2 = [7.90, 11.00, 13.93]\n",
    "resistencia_1730_g2 = lagrange_interpolation(comprimentos_grau_2, resistencias_grau_2, 1730)\n",
    "print(f\"Resistência para 1730 m (grau 2): {resistencia_1730_g2:.2f} Ohms\")\n",
    "\n",
    "# Interpolação de grau 2 para 3200 m\n",
    "comprimentos_grau_2 = [3000, 3500, 4000]\n",
    "resistencias_grau_2 = [16.43, 20.24, 23.52]\n",
    "resistencia_3200_g2 = lagrange_interpolation(comprimentos_grau_2, resistencias_grau_2, 3200)\n",
    "print(f\"Resistência para 3200 m (grau 2): {resistencia_3200_g2:.2f} Ohms\")\n",
    "\n",
    "# Interpolação de grau 3 para 1730 m\n",
    "comprimentos_grau_3 = [1000, 1500, 2000, 2500]\n",
    "resistencias_grau_3 = [5.48, 7.90, 11.00, 13.93]\n",
    "resistencia_1730_g3 = lagrange_interpolation(comprimentos_grau_3, resistencias_grau_3, 1730)\n",
    "print(f\"Resistência para 1730 m (grau 3): {resistencia_1730_g3:.2f} Ohms\")\n",
    "\n",
    "# Interpolação de grau 3 para 3200 m\n",
    "comprimentos_grau_3 = [2500, 3000, 3500, 4000]\n",
    "resistencias_grau_3 = [13.93, 16.43, 20.24, 23.52]\n",
    "resistencia_3200_g3 = lagrange_interpolation(comprimentos_grau_3, resistencias_grau_3, 3200)\n",
    "print(f\"Resistência para 3200 m (grau 3): {resistencia_3200_g3:.2f} Ohms\")\n",
    "\n",
    "print(\"\\n\")\n",
    "\n",
    "# -----------------------------\n",
    "# newton_interpolation\n",
    "# -----------------------------\n",
    "print(\"Newton Interpolation\")\n",
    "# Interpolação de grau 2 para 1730 m\n",
    "comprimentos_grau_2 = [1500, 2000, 2500]\n",
    "resistencias_grau_2 = [7.90, 11.00, 13.93]\n",
    "resistencia_1730_g2 = newton_interpolation(comprimentos_grau_2, resistencias_grau_2, 1730)\n",
    "print(f\"Resistência para 1730 m (grau 2): {resistencia_1730_g2:.2f} Ohms\")\n",
    "\n",
    "# Interpolação de grau 2 para 3200 m\n",
    "comprimentos_grau_2 = [3000, 3500, 4000]\n",
    "resistencias_grau_2 = [16.43, 20.24, 23.52]\n",
    "resistencia_3200_g2 = newton_interpolation(comprimentos_grau_2, resistencias_grau_2, 3200)\n",
    "print(f\"Resistência para 3200 m (grau 2): {resistencia_3200_g2:.2f} Ohms\")\n",
    "\n",
    "# Interpolação de grau 3 para 1730 m\n",
    "comprimentos_grau_3 = [1000, 1500, 2000, 2500]\n",
    "resistencias_grau_3 = [5.48, 7.90, 11.00, 13.93]\n",
    "resistencia_1730_g3 = newton_interpolation(comprimentos_grau_3, resistencias_grau_3, 1730)\n",
    "print(f\"Resistência para 1730 m (grau 3): {resistencia_1730_g3:.2f} Ohms\")\n",
    "\n",
    "# Interpolação de grau 3 para 3200 m\n",
    "comprimentos_grau_3 = [2500, 3000, 3500, 4000]\n",
    "resistencias_grau_3 = [13.93, 16.43, 20.24, 23.52]\n",
    "resistencia_3200_g3 = newton_interpolation(comprimentos_grau_3, resistencias_grau_3, 3200)\n",
    "print(f\"Resistência para 3200 m (grau 3): {resistencia_3200_g3:.2f} Ohms\")\n"
   ]
  },
  {
   "cell_type": "markdown",
   "metadata": {},
   "source": [
    "## Exercício 3"
   ]
  },
  {
   "cell_type": "code",
   "execution_count": null,
   "metadata": {},
   "outputs": [],
   "source": []
  },
  {
   "cell_type": "markdown",
   "metadata": {},
   "source": [
    "## Exercício 4"
   ]
  },
  {
   "cell_type": "code",
   "execution_count": null,
   "metadata": {},
   "outputs": [],
   "source": []
  },
  {
   "cell_type": "markdown",
   "metadata": {},
   "source": [
    "4) O número de bactérias, por unidade de volume, existente em uma cultura após x horas é apresentado na tabela:\n",
    "numero de horas (x) 0 1 2 3 4 5 6\n",
    "numero de bactérias por\n",
    "vol. unitário (y) 32 47 65 92 132 190 275\n",
    "a) Trace o diagrama de dispersão dos dados\n",
    "b) Use o método dos mínimos quadrados para ajustar os dados as curvas y = ab^x e y = ax^b\n",
    "c) Verifique e justifique qual a equação do melhor ajuste. Utilize ela para prever o numero de bactérias por vol. unitário (y) em numero de horas (x) igual a 7"
   ]
  },
  {
   "cell_type": "code",
   "execution_count": null,
   "metadata": {},
   "outputs": [],
   "source": [
    "import numpy as np\n",
    "from scipy.optimize import curve_fit\n",
    "from sklearn.metrics import r2_score\n",
    "\n",
    "# Dados fornecidos\n",
    "x_data = np.array([0, 1, 2, 3, 4, 5, 6])\n",
    "y_data = np.array([32, 47, 65, 92, 132, 190, 275])\n",
    "\n",
    "# Funções para ajuste\n",
    "def func_exp(x, a, b):\n",
    "    return a * np.power(b, x)\n",
    "\n",
    "def func_pow(x, a, b):\n",
    "    return a * np.power(x, b)\n",
    "\n",
    "# Ajuste para y = ab^x\n",
    "popt_exp, pcov_exp = curve_fit(func_exp, x_data, y_data, maxfev=10000)\n",
    "a_exp, b_exp = popt_exp\n",
    "\n",
    "# Ajuste para y = ax^b (ignorando x=0, pois log(0) é indefinido)\n",
    "x_data_pow = x_data[1:]\n",
    "y_data_pow = y_data[1:]\n",
    "popt_pow, pcov_pow = curve_fit(func_pow, x_data_pow, y_data_pow, maxfev=10000)\n",
    "a_pow, b_pow = popt_pow\n",
    "\n",
    "# Previsão para x = 7 horas\n",
    "x_pred = 7\n",
    "y_pred_exp = func_exp(x_pred, a_exp, b_exp)\n",
    "y_pred_pow = func_pow(x_pred, a_pow, b_pow)\n",
    "\n",
    "# Cálculo do coeficiente de determinação R^2\n",
    "y_pred_exp_all = func_exp(x_data, a_exp, b_exp)\n",
    "y_pred_pow_all = func_pow(x_data_pow, a_pow, b_pow)\n",
    "r2_exp = r2_score(y_data, y_pred_exp_all)\n",
    "r2_pow = r2_score(y_data_pow, y_pred_pow_all)\n",
    "\n",
    "# Exibição dos resultados\n",
    "print(\"Coeficientes obtidos:\")\n",
    "print(\"Curva y = ab^x:\")\n",
    "print(f\"a = {a_exp}, b = {b_exp}, R^2 = {r2_exp}\")\n",
    "\n",
    "print(\"\\nCurva y = ax^b:\")\n",
    "print(f\"a = {a_pow}, b = {b_pow}, R^2 = {r2_pow}\")\n",
    "\n",
    "# Escolha da melhor curva com base no R^2\n",
    "if r2_exp > r2_pow:\n",
    "    y_pred = y_pred_exp\n",
    "    equation = \"y = ab^x\"\n",
    "else:\n",
    "    y_pred = y_pred_pow\n",
    "    equation = \"y = ax^b\"\n",
    "\n",
    "print(f\"\\nPrevisão para x = 7 horas usando a equação {equation}:\")\n",
    "print(f\"y = {y_pred}\")\n"
   ]
  },
  {
   "cell_type": "code",
   "execution_count": 17,
   "metadata": {},
   "outputs": [
    {
     "name": "stdout",
     "output_type": "stream",
     "text": [
      "Coeficientes obtidos:\n",
      "Curva y = ab^x:\n",
      "a = 32.1468513163175, b = 1.4269588061798035\n",
      "\n",
      "Curva y = ax^b:\n",
      "a = 38.8387110601799, b = 0.9630907218717832\n",
      "\n",
      "Previsão para x = 7 horas:\n",
      "y = 387.2741356647424 (usando a equação y = ab^x)\n",
      "y = 253.02934423935858 (usando a equação y = ax^b)\n"
     ]
    }
   ],
   "source": [
    "import numpy as np\n",
    "\n",
    "# Dados fornecidos\n",
    "x_data = np.array([0, 1, 2, 3, 4, 5, 6])\n",
    "y_data = np.array([32, 47, 65, 92, 132, 190, 275])\n",
    "\n",
    "def ajuste_minimos_quadrados(x, y):\n",
    "    def ajuste_exp(x, y):\n",
    "        n = len(x)\n",
    "        sum_x = np.sum(x)\n",
    "        sum_y = np.sum(np.log(y))\n",
    "        sum_xx = np.sum(x * x)\n",
    "        sum_xy = np.sum(x * np.log(y))\n",
    "\n",
    "        b = (n * sum_xy - sum_x * sum_y) / (n * sum_xx - sum_x ** 2)\n",
    "        a = np.exp((sum_y - b * sum_x) / n)\n",
    "\n",
    "        return a, np.exp(b)\n",
    "\n",
    "    def ajuste_pot(x, y):\n",
    "        n = len(x)\n",
    "        sum_log_x = np.sum(np.log(x))\n",
    "        sum_log_y = np.sum(np.log(y))\n",
    "        sum_log_xx = np.sum(np.log(x) ** 2)\n",
    "        sum_log_xy = np.sum(np.log(x) * np.log(y))\n",
    "\n",
    "        b = (n * sum_log_xy - sum_log_x * sum_log_y) / (n * sum_log_xx - sum_log_x ** 2)\n",
    "        a = np.exp((sum_log_y - b * sum_log_x) / n)\n",
    "\n",
    "        return a, b\n",
    "\n",
    "    # Ajuste exponencial\n",
    "    a_exp, b_exp = ajuste_exp(x, y)\n",
    "\n",
    "    # Ajuste de potência (ignorando x=0, pois log(0) é indefinido)\n",
    "    x_pow = x[1:]\n",
    "    y_pow = y[1:]\n",
    "    a_pow, b_pow = ajuste_pot(x_pow, y_pow)\n",
    "\n",
    "    # Função para prever y para um valor específico de x\n",
    "    def prever(x_pred, a, b, tipo):\n",
    "        if tipo == 'exp':\n",
    "            return a * np.power(b, x_pred)\n",
    "        elif tipo == 'pot':\n",
    "            return a * np.power(x_pred, b)\n",
    "        else:\n",
    "            raise ValueError(\"Tipo de ajuste não reconhecido. Use 'exp' para exponencial ou 'pot' para potência.\")\n",
    "\n",
    "    # Previsão para x = 7 horas\n",
    "    x_pred = 7\n",
    "    y_pred_exp = prever(x_pred, a_exp, b_exp, 'exp')\n",
    "    y_pred_pow = prever(x_pred, a_pow, b_pow, 'pot')\n",
    "\n",
    "    return {\n",
    "        'a_exp': a_exp,\n",
    "        'b_exp': b_exp,\n",
    "        'a_pow': a_pow,\n",
    "        'b_pow': b_pow,\n",
    "        'y_pred_exp': y_pred_exp,\n",
    "        'y_pred_pow': y_pred_pow\n",
    "    }\n",
    "\n",
    "# Chamando a função e exibindo os resultados\n",
    "resultados = ajuste_minimos_quadrados(x_data, y_data)\n",
    "print(\"Coeficientes obtidos:\")\n",
    "print(\"Curva y = ab^x:\")\n",
    "print(f\"a = {resultados['a_exp']}, b = {resultados['b_exp']}\")\n",
    "\n",
    "print(\"\\nCurva y = ax^b:\")\n",
    "print(f\"a = {resultados['a_pow']}, b = {resultados['b_pow']}\")\n",
    "\n",
    "print(\"\\nPrevisão para x = 7 horas:\")\n",
    "print(f\"y = {resultados['y_pred_exp']} (usando a equação y = ab^x)\")\n",
    "print(f\"y = {resultados['y_pred_pow']} (usando a equação y = ax^b)\")\n"
   ]
  }
 ],
 "metadata": {
  "kernelspec": {
   "display_name": "Python 3",
   "language": "python",
   "name": "python3"
  },
  "language_info": {
   "codemirror_mode": {
    "name": "ipython",
    "version": 3
   },
   "file_extension": ".py",
   "mimetype": "text/x-python",
   "name": "python",
   "nbconvert_exporter": "python",
   "pygments_lexer": "ipython3",
   "version": "3.12.3"
  }
 },
 "nbformat": 4,
 "nbformat_minor": 2
}
