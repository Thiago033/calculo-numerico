{
 "cells": [
  {
   "cell_type": "markdown",
   "metadata": {},
   "source": [
    "# Relatório 2\n",
    "\n",
    "**Nome:** Thiago Lopes <br>\n",
    "**Matrícula:** 20100358 <br>\n",
    "**Turma:** T2"
   ]
  },
  {
   "cell_type": "markdown",
   "metadata": {},
   "source": [
    "# Bibliotecas python utilizadas"
   ]
  },
  {
   "cell_type": "code",
   "execution_count": null,
   "metadata": {},
   "outputs": [],
   "source": [
    "import matplotlib.pyplot as plt\n",
    "import numpy as np"
   ]
  },
  {
   "cell_type": "markdown",
   "metadata": {},
   "source": [
    "# Funçoes Auxiliares"
   ]
  },
  {
   "cell_type": "code",
   "execution_count": null,
   "metadata": {},
   "outputs": [],
   "source": []
  },
  {
   "cell_type": "markdown",
   "metadata": {},
   "source": [
    "# Métodos implementados: "
   ]
  },
  {
   "cell_type": "code",
   "execution_count": null,
   "metadata": {},
   "outputs": [],
   "source": [
    "def lagrange_interpolation(x, y, z):\n",
    "    m = len(x)\n",
    "    Pz = 0\n",
    "\n",
    "    for i in range(m):\n",
    "        c = 1\n",
    "        d = 1\n",
    "        for j in range(m):\n",
    "            if i != j:\n",
    "                c *= (z - x[j])\n",
    "                d *= (x[i] - x[j])\n",
    "        Pz += y[i] * (c / d)\n",
    "\n",
    "    return Pz\n"
   ]
  },
  {
   "cell_type": "code",
   "execution_count": null,
   "metadata": {},
   "outputs": [],
   "source": [
    "def newton_interpolation(x, y, z):\n",
    "    m = len(x)\n",
    "    Dely = y.copy()\n",
    "\n",
    "    # Construção das diferenças divididas\n",
    "    for i in range(1, m):\n",
    "        for k in range(m-1, i-1, -1):\n",
    "            Dely[k] = (Dely[k] - Dely[k-1]) / (x[k] - x[k-i])\n",
    "\n",
    "    # Avaliação do polinômio pelo método de Horner\n",
    "    Pz = Dely[-1]\n",
    "    for i in range(m-2, -1, -1):\n",
    "        Pz = Pz * (z - x[i]) + Dely[i]\n",
    "\n",
    "    return Pz\n"
   ]
  },
  {
   "cell_type": "code",
   "execution_count": null,
   "metadata": {},
   "outputs": [],
   "source": []
  },
  {
   "cell_type": "code",
   "execution_count": null,
   "metadata": {},
   "outputs": [],
   "source": []
  },
  {
   "cell_type": "markdown",
   "metadata": {},
   "source": [
    "# Exercícios"
   ]
  },
  {
   "cell_type": "markdown",
   "metadata": {},
   "source": [
    "## Exercício 1"
   ]
  },
  {
   "cell_type": "code",
   "execution_count": null,
   "metadata": {},
   "outputs": [],
   "source": [
    "# Dados fornecidos\n",
    "tempos = [0, 10, 30, 60, 90, 120, 140]  # tempo em minutos\n",
    "distancias = [0.00, 8.00, 27.00, 58.00, 100.00, 145.00, 160.00]  # distância percorrida em km\n",
    "\n",
    "# Usando os quatro primeiros pontos para calcular a distância percorrida em 45 minutos\n",
    "tempos_4 = [0, 10, 30, 60]\n",
    "distancias_4 = [0.00, 8.00, 27.00, 58.00]\n",
    "\n",
    "# -----------------------------\n",
    "# lagrange_interpolation\n",
    "# -----------------------------\n",
    "print(\"Lagrange Interpolation\")\n",
    "# A)\n",
    "distancia_45_min = lagrange_interpolation(tempos_4, distancias_4, 45)\n",
    "print(f\"Distância percorrida nos primeiros 45 minutos: {distancia_45_min:.2f} km\")\n",
    "\n",
    "# B)\n",
    "tempo_para_metade = lagrange_interpolation(distancias, tempos, 80)\n",
    "print(f\"Tempo necessário para percorrer metade do caminho (80 km): {tempo_para_metade:.2f} minutos\")\n",
    "\n",
    "print(\"\\n\")\n",
    "\n",
    "# -----------------------------\n",
    "# newton_interpolation\n",
    "# -----------------------------\n",
    "print(\"Newton Interpolation\")\n",
    "# A)\n",
    "distancia_45_min = newton_interpolation(tempos_4, distancias_4, 45)\n",
    "print(f\"Distância percorrida nos primeiros 45 minutos: {distancia_45_min:.2f} km\")\n",
    "\n",
    "# B)\n",
    "tempo_para_metade = newton_interpolation(distancias, tempos, 80)\n",
    "print(f\"Tempo necessário para percorrer metade do caminho (80 km): {tempo_para_metade:.2f} minutos\")"
   ]
  },
  {
   "cell_type": "markdown",
   "metadata": {},
   "source": [
    "## Exercício 2"
   ]
  },
  {
   "cell_type": "code",
   "execution_count": null,
   "metadata": {},
   "outputs": [],
   "source": [
    "# Dados fornecidos\n",
    "comprimentos = [500, 1000, 1500, 2000, 2500, 3000, 3500, 4000]\n",
    "resistencias = [2.74, 5.48, 7.90, 11.00, 13.93, 16.43, 20.24, 23.52]\n",
    "\n",
    "# -----------------------------\n",
    "# lagrange_interpolation\n",
    "# -----------------------------\n",
    "print(\"Lagrange Interpolation\")\n",
    "# Interpolação de grau 2 para 1730 m\n",
    "comprimentos_grau_2 = [1500, 2000, 2500]\n",
    "resistencias_grau_2 = [7.90, 11.00, 13.93]\n",
    "resistencia_1730_g2 = lagrange_interpolation(comprimentos_grau_2, resistencias_grau_2, 1730)\n",
    "print(f\"Resistência para 1730 m (grau 2): {resistencia_1730_g2:.2f} Ohms\")\n",
    "\n",
    "# Interpolação de grau 2 para 3200 m\n",
    "comprimentos_grau_2 = [3000, 3500, 4000]\n",
    "resistencias_grau_2 = [16.43, 20.24, 23.52]\n",
    "resistencia_3200_g2 = lagrange_interpolation(comprimentos_grau_2, resistencias_grau_2, 3200)\n",
    "print(f\"Resistência para 3200 m (grau 2): {resistencia_3200_g2:.2f} Ohms\")\n",
    "\n",
    "# Interpolação de grau 3 para 1730 m\n",
    "comprimentos_grau_3 = [1000, 1500, 2000, 2500]\n",
    "resistencias_grau_3 = [5.48, 7.90, 11.00, 13.93]\n",
    "resistencia_1730_g3 = lagrange_interpolation(comprimentos_grau_3, resistencias_grau_3, 1730)\n",
    "print(f\"Resistência para 1730 m (grau 3): {resistencia_1730_g3:.2f} Ohms\")\n",
    "\n",
    "# Interpolação de grau 3 para 3200 m\n",
    "comprimentos_grau_3 = [2500, 3000, 3500, 4000]\n",
    "resistencias_grau_3 = [13.93, 16.43, 20.24, 23.52]\n",
    "resistencia_3200_g3 = lagrange_interpolation(comprimentos_grau_3, resistencias_grau_3, 3200)\n",
    "print(f\"Resistência para 3200 m (grau 3): {resistencia_3200_g3:.2f} Ohms\")\n",
    "\n",
    "print(\"\\n\")\n",
    "\n",
    "# -----------------------------\n",
    "# newton_interpolation\n",
    "# -----------------------------\n",
    "print(\"Newton Interpolation\")\n",
    "# Interpolação de grau 2 para 1730 m\n",
    "comprimentos_grau_2 = [1500, 2000, 2500]\n",
    "resistencias_grau_2 = [7.90, 11.00, 13.93]\n",
    "resistencia_1730_g2 = newton_interpolation(comprimentos_grau_2, resistencias_grau_2, 1730)\n",
    "print(f\"Resistência para 1730 m (grau 2): {resistencia_1730_g2:.2f} Ohms\")\n",
    "\n",
    "# Interpolação de grau 2 para 3200 m\n",
    "comprimentos_grau_2 = [3000, 3500, 4000]\n",
    "resistencias_grau_2 = [16.43, 20.24, 23.52]\n",
    "resistencia_3200_g2 = newton_interpolation(comprimentos_grau_2, resistencias_grau_2, 3200)\n",
    "print(f\"Resistência para 3200 m (grau 2): {resistencia_3200_g2:.2f} Ohms\")\n",
    "\n",
    "# Interpolação de grau 3 para 1730 m\n",
    "comprimentos_grau_3 = [1000, 1500, 2000, 2500]\n",
    "resistencias_grau_3 = [5.48, 7.90, 11.00, 13.93]\n",
    "resistencia_1730_g3 = newton_interpolation(comprimentos_grau_3, resistencias_grau_3, 1730)\n",
    "print(f\"Resistência para 1730 m (grau 3): {resistencia_1730_g3:.2f} Ohms\")\n",
    "\n",
    "# Interpolação de grau 3 para 3200 m\n",
    "comprimentos_grau_3 = [2500, 3000, 3500, 4000]\n",
    "resistencias_grau_3 = [13.93, 16.43, 20.24, 23.52]\n",
    "resistencia_3200_g3 = newton_interpolation(comprimentos_grau_3, resistencias_grau_3, 3200)\n",
    "print(f\"Resistência para 3200 m (grau 3): {resistencia_3200_g3:.2f} Ohms\")\n"
   ]
  },
  {
   "cell_type": "markdown",
   "metadata": {},
   "source": [
    "## Exercício 3"
   ]
  },
  {
   "cell_type": "code",
   "execution_count": null,
   "metadata": {},
   "outputs": [],
   "source": []
  },
  {
   "cell_type": "markdown",
   "metadata": {},
   "source": [
    "## Exercício 4"
   ]
  },
  {
   "cell_type": "code",
   "execution_count": null,
   "metadata": {},
   "outputs": [],
   "source": []
  }
 ],
 "metadata": {
  "kernelspec": {
   "display_name": "Python 3",
   "language": "python",
   "name": "python3"
  },
  "language_info": {
   "codemirror_mode": {
    "name": "ipython",
    "version": 3
   },
   "file_extension": ".py",
   "mimetype": "text/x-python",
   "name": "python",
   "nbconvert_exporter": "python",
   "pygments_lexer": "ipython3",
   "version": "3.12.3"
  }
 },
 "nbformat": 4,
 "nbformat_minor": 2
}
