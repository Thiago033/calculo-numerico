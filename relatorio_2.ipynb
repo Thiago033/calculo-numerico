{
 "cells": [
  {
   "cell_type": "markdown",
   "metadata": {},
   "source": [
    "# Relatório 2\n",
    "\n",
    "**Nome:** Thiago Lopes <br>\n",
    "**Matrícula:** 20100358 <br>\n",
    "**Turma:** T2"
   ]
  },
  {
   "cell_type": "markdown",
   "metadata": {},
   "source": [
    "# Bibliotecas python utilizadas"
   ]
  },
  {
   "cell_type": "code",
   "execution_count": 314,
   "metadata": {},
   "outputs": [],
   "source": [
    "import math\n",
    "import matplotlib.pyplot as plt\n",
    "import numpy as np\n",
    "from prettytable import PrettyTable\n",
    "import sympy"
   ]
  },
  {
   "cell_type": "markdown",
   "metadata": {},
   "source": [
    "# Funçoes Auxiliares"
   ]
  },
  {
   "cell_type": "code",
   "execution_count": 315,
   "metadata": {},
   "outputs": [],
   "source": [
    "def pivot(A, b, k):\n",
    "    max_index = np.argmax(np.abs(A[k:, k])) + k\n",
    "    \n",
    "    if max_index != k:\n",
    "        A[[k, max_index]] = A[[max_index, k]]\n",
    "        b[[k, max_index]] = b[[max_index, k]]\n"
   ]
  },
  {
   "cell_type": "code",
   "execution_count": 316,
   "metadata": {},
   "outputs": [],
   "source": [
    "def back_substitution(U, y):\n",
    "    m = len(y)\n",
    "    x = np.zeros(m)\n",
    "    \n",
    "    for i in range(m - 1, -1, -1):\n",
    "        x[i] = (y[i] - np.dot(U[i, i + 1:], x[i + 1:])) / U[i, i]\n",
    "        \n",
    "    return x\n"
   ]
  },
  {
   "cell_type": "code",
   "execution_count": 317,
   "metadata": {},
   "outputs": [],
   "source": [
    "def forward_substitution2(L, b, Pivot):\n",
    "    m = len(b)\n",
    "    y = np.zeros(m)\n",
    "    \n",
    "    for i in range(m):\n",
    "        y[i] = b[Pivot[i] - 1] - np.dot(L[i, :i], y[:i])        \n",
    "    return y"
   ]
  },
  {
   "cell_type": "code",
   "execution_count": 318,
   "metadata": {},
   "outputs": [],
   "source": [
    "def forward_substitution(L, b):\n",
    "    n = L.shape[0]\n",
    "    y = np.zeros_like(b)\n",
    "    \n",
    "    for i in range(n):\n",
    "        y[i] = (b[i] - np.dot(L[i, :i], y[:i])) / L[i, i]\n",
    "    \n",
    "    return y"
   ]
  },
  {
   "cell_type": "markdown",
   "metadata": {},
   "source": [
    "# Métodos implementados (Gaussian Elimination, LU Decomposition):"
   ]
  },
  {
   "cell_type": "code",
   "execution_count": 319,
   "metadata": {},
   "outputs": [],
   "source": [
    "def gauss_elimination(A, b, use_pivoting=False):\n",
    "    n = len(b)\n",
    "    A = A.astype(float)\n",
    "    b = b.astype(float)\n",
    "\n",
    "    #eliminacao com ou sem pivotamento\n",
    "    for k in range(n-1):\n",
    "        if use_pivoting:  \n",
    "            pivot(A, b, k)\n",
    "\n",
    "        for i in range(k+1, n):\n",
    "            m = A[i][k] / A[k][k]\n",
    "            A[i][k] = 0\n",
    "            \n",
    "            for j in range(k+1, n):\n",
    "                A[i][j] -= m * A[k][j]\n",
    "                \n",
    "            b[i] -= m * b[k]\n",
    "\n",
    "    return back_substitution(A, b)\n"
   ]
  },
  {
   "cell_type": "code",
   "execution_count": 320,
   "metadata": {},
   "outputs": [],
   "source": [
    "def LU_decomposition(A, b):\n",
    "    A = A.astype(np.float64)\n",
    "    b = b.astype(np.float64)\n",
    "\n",
    "    m, n = A.shape\n",
    "    \n",
    "    if m != n:\n",
    "        raise ValueError(\"Matrix must be square\")\n",
    "    \n",
    "    Pivot = np.arange(1, m + 1)\n",
    "    PdU = 1.0\n",
    "    Info = 0\n",
    "    LU = A.copy()\n",
    "\n",
    "    for j in range(n):\n",
    "        pivot(LU, b, j)\n",
    "        \n",
    "        Pivot[j], Pivot[np.argmax(np.abs(LU[j:, j])) + j] = Pivot[np.argmax(np.abs(LU[j:, j])) + j], Pivot[j]\n",
    "\n",
    "        if LU[j, j] == 0:\n",
    "            if Info == 0:\n",
    "                Info = j + 1\n",
    "            continue\n",
    "\n",
    "        PdU *= LU[j, j]\n",
    "\n",
    "        if abs(LU[j, j]) != 0:\n",
    "            r = 1 / LU[j, j]\n",
    "            for i in range(j + 1, m):\n",
    "                Mult = LU[i, j] * r\n",
    "                LU[i, j] = Mult\n",
    "                LU[i, j + 1:] -= Mult * LU[j, j + 1:]\n",
    "        else:\n",
    "            if Info == 0:\n",
    "                Info = j + 1\n",
    "\n",
    "    if Info != 0:\n",
    "        raise ValueError(f\"Matrix is singular at row {Info}\")\n",
    "\n",
    "    y = forward_substitution2(LU, b, Pivot)\n",
    "\n",
    "    x = back_substitution(LU, y)\n",
    "\n",
    "    return x, LU, Pivot, PdU, Info"
   ]
  },
  {
   "cell_type": "code",
   "execution_count": 321,
   "metadata": {},
   "outputs": [],
   "source": [
    "def cholesky_decomposition(A, b):\n",
    "    n = A.shape[0]\n",
    "    L = np.zeros_like(A)\n",
    "    Det = 1.0\n",
    "    Info = 0\n",
    "    \n",
    "    for j in range(n):\n",
    "        Soma = 0.0\n",
    "        for k in range(j):\n",
    "            Soma += L[j, k] * L[j, k]\n",
    "        \n",
    "        t = A[j, j] - Soma\n",
    "        if t > 0:\n",
    "            L[j, j] = np.sqrt(t)\n",
    "            r = 1 / L[j, j]\n",
    "            Det *= t\n",
    "        else:\n",
    "            Info = j + 1\n",
    "            raise ValueError(\"Matrix is not positive definite\")\n",
    "        \n",
    "        for i in range(j + 1, n):\n",
    "            Soma = 0.0\n",
    "            for k in range(j):\n",
    "                Soma += L[i, k] * L[j, k]\n",
    "            L[i, j] = (A[i, j] - Soma) * r\n",
    "    \n",
    "    # Solve Ly = b using forward substitution with pivoting\n",
    "    y = forward_substitution(L, b)\n",
    "    \n",
    "    # Solve L^Tx = y using backward substitution\n",
    "    x = back_substitution(L.T, y)\n",
    "    \n",
    "    return x, L, Det, Info"
   ]
  },
  {
   "cell_type": "markdown",
   "metadata": {},
   "source": [
    "# Exercícios"
   ]
  },
  {
   "cell_type": "markdown",
   "metadata": {},
   "source": [
    "## Exercício 1"
   ]
  },
  {
   "cell_type": "code",
   "execution_count": 322,
   "metadata": {},
   "outputs": [
    {
     "name": "stdout",
     "output_type": "stream",
     "text": [
      "[1. 2. 3.]\n"
     ]
    }
   ],
   "source": [
    "# Gauss eliminatioon\n",
    "A = np.array([\n",
    "    [2, 3, -1],\n",
    "    [4, 4, -3],\n",
    "    [2, -3, 1]])\n",
    "\n",
    "b = np.array([5, 3, -1])\n",
    "\n",
    "solution = gauss_elimination(A, b, use_pivoting=True)\n",
    "print(solution)"
   ]
  },
  {
   "cell_type": "code",
   "execution_count": 326,
   "metadata": {},
   "outputs": [
    {
     "name": "stdout",
     "output_type": "stream",
     "text": [
      "Solution: [-3.002002  5.003003 -0.      ]\n",
      "LU matrix:\n",
      " [[ 3.     2.     4.   ]\n",
      " [ 0.     0.333  0.666]\n",
      " [ 0.     0.    -8.   ]]\n",
      "Pivot indices: [1 2 3]\n",
      "Product of the diagonal of U: -7.992000000000001\n",
      "Info: 0\n"
     ]
    }
   ],
   "source": [
    "# LU Decomposition\n",
    "A = np.array([\n",
    "    [3, 2, 4],\n",
    "    [0, 0.333, 0.666],\n",
    "    [0, 0, -8]])\n",
    "\n",
    "b = np.array([1, 1.666, 0])\n",
    "\n",
    "# -------------------------------\n",
    "\n",
    "# A = np.array([\n",
    "#     [1, 0, 0],\n",
    "#     [0.333, 1, 0],\n",
    "#     [1.333, 1, 1]])\n",
    "\n",
    "# b = np.array([1, 2, 3])\n",
    "\n",
    "# -------------------------------\n",
    "\n",
    "# A = np.array([\n",
    "#     [1, 5, 5], \n",
    "#     [6, 9, 22], \n",
    "#     [32, 5., 5]])\n",
    "\n",
    "# b = np.array([1, 2, 7])\n",
    "\n",
    "# -------------------------------\n",
    "\n",
    "# A = np.array([[1, 2, 4, 3],\n",
    "#               [2, 0, 2, 1],\n",
    "#               [4, 1, 3, 2],\n",
    "#               [1, 0, 1, 1]], dtype=float)\n",
    "\n",
    "# b = np.array([16, 13, 27, 7], dtype=float)\n",
    "\n",
    "solution, LU, Pivot, PdU, Info = LU_decomposition(A, b)\n",
    "\n",
    "print(\"Solution:\", solution)\n",
    "print(\"LU matrix:\\n\", LU)\n",
    "print(\"Pivot indices:\", Pivot)\n",
    "print(\"Product of the diagonal of U:\", PdU)\n",
    "print(\"Info:\", Info) "
   ]
  },
  {
   "cell_type": "code",
   "execution_count": 324,
   "metadata": {},
   "outputs": [],
   "source": [
    "# # cholesky_decomposition\n",
    "\n",
    "# A = np.array([[4, 2, -4],\n",
    "#                [2, 10, 4],\n",
    "#                [-4, 4, 9]], dtype=float)\n",
    "\n",
    "# b = np.array([0, 6, 5], dtype=float)\n",
    "\n",
    "# x, L, Det, Info = cholesky_decomposition(A, b)\n",
    "\n",
    "# print(\"Solution x:\", x)\n",
    "# print(\"Lower triangular matrix L:\\n\", L)\n",
    "# print(\"Determinant:\", Det)\n",
    "# print(\"Info:\", Info)"
   ]
  }
 ],
 "metadata": {
  "kernelspec": {
   "display_name": "Python 3",
   "language": "python",
   "name": "python3"
  },
  "language_info": {
   "codemirror_mode": {
    "name": "ipython",
    "version": 3
   },
   "file_extension": ".py",
   "mimetype": "text/x-python",
   "name": "python",
   "nbconvert_exporter": "python",
   "pygments_lexer": "ipython3",
   "version": "3.12.3"
  }
 },
 "nbformat": 4,
 "nbformat_minor": 2
}
