{
 "cells": [
  {
   "cell_type": "markdown",
   "metadata": {},
   "source": [
    "# Relatório 2\n",
    "\n",
    "**Nome:** Thiago Lopes <br>\n",
    "**Matrícula:** 20100358 <br>\n",
    "**Turma:** T2"
   ]
  },
  {
   "cell_type": "markdown",
   "metadata": {},
   "source": [
    "# Bibliotecas python utilizadas"
   ]
  },
  {
   "cell_type": "code",
   "execution_count": 110,
   "metadata": {},
   "outputs": [],
   "source": [
    "import math\n",
    "import matplotlib.pyplot as plt\n",
    "import numpy as np\n",
    "from prettytable import PrettyTable\n",
    "import sympy\n"
   ]
  },
  {
   "cell_type": "markdown",
   "metadata": {},
   "source": [
    "# Funçoes Auxiliares"
   ]
  },
  {
   "cell_type": "code",
   "execution_count": 111,
   "metadata": {},
   "outputs": [],
   "source": [
    "def pivot(A, b, k):\n",
    "    max_index = np.argmax(np.abs(A[k:, k])) + k\n",
    "    \n",
    "    if max_index != k:\n",
    "        A[[k, max_index]] = A[[max_index, k]]\n",
    "        b[[k, max_index]] = b[[max_index, k]]\n"
   ]
  },
  {
   "cell_type": "code",
   "execution_count": 112,
   "metadata": {},
   "outputs": [],
   "source": [
    "def back_substitution(U, y):\n",
    "    m = len(y)\n",
    "    x = np.zeros(m)\n",
    "    \n",
    "    for i in range(m - 1, -1, -1):\n",
    "        x[i] = (y[i] - np.dot(U[i, i + 1:], x[i + 1:])) / U[i, i]\n",
    "        \n",
    "    return x\n"
   ]
  },
  {
   "cell_type": "code",
   "execution_count": 113,
   "metadata": {},
   "outputs": [],
   "source": [
    "def forward_substitution(L, b):\n",
    "    n = L.shape[0]\n",
    "    y = np.zeros_like(b)\n",
    "    \n",
    "    for i in range(n):\n",
    "        y[i] = (b[i] - np.dot(L[i, :i], y[:i])) / L[i, i]\n",
    "    \n",
    "    return y\n"
   ]
  },
  {
   "cell_type": "code",
   "execution_count": 114,
   "metadata": {},
   "outputs": [],
   "source": [
    "def forward_substitution_LU(L, b, Pivot):\n",
    "    m = len(b)\n",
    "    y = np.zeros(m)\n",
    "    \n",
    "    for i in range(m):\n",
    "        y[i] = b[Pivot[i] - 1] - np.dot(L[i, :i], y[:i])        \n",
    "    return y\n"
   ]
  },
  {
   "cell_type": "markdown",
   "metadata": {},
   "source": [
    "# Métodos implementados: Gaussian Elimination, LU Decomposition, Cholesky Decomposition,:"
   ]
  },
  {
   "cell_type": "code",
   "execution_count": 115,
   "metadata": {},
   "outputs": [],
   "source": [
    "def gauss_elimination(A, b, use_pivoting=False):\n",
    "    n = len(b)\n",
    "    A = A.astype(float)\n",
    "    b = b.astype(float)\n",
    "\n",
    "    for k in range(n-1):\n",
    "        if use_pivoting:  \n",
    "            pivot(A, b, k)\n",
    "\n",
    "        for i in range(k+1, n):\n",
    "            m = A[i][k] / A[k][k]\n",
    "            A[i][k] = 0\n",
    "            \n",
    "            for j in range(k+1, n):\n",
    "                A[i][j] -= m * A[k][j]\n",
    "                \n",
    "            b[i] -= m * b[k]\n",
    "\n",
    "    return back_substitution(A, b)\n"
   ]
  },
  {
   "cell_type": "code",
   "execution_count": 116,
   "metadata": {},
   "outputs": [],
   "source": [
    "def LU_decomposition(A, b, use_pivoting=False):\n",
    "    A = A.astype(np.float64)\n",
    "    b = b.astype(np.float64)\n",
    "\n",
    "    m, n = A.shape\n",
    "    \n",
    "    if m != n:\n",
    "        raise ValueError(\"Matrix must be square\")\n",
    "    \n",
    "    Pivot = np.arange(1, m + 1)\n",
    "    PdU = 1.0\n",
    "    Info = 0\n",
    "    LU = A.copy()\n",
    "\n",
    "    for j in range(n):\n",
    "        if use_pivoting:\n",
    "            pivot(LU, b, j)\n",
    "        \n",
    "        Pivot[j], Pivot[np.argmax(np.abs(LU[j:, j])) + j] = Pivot[np.argmax(np.abs(LU[j:, j])) + j], Pivot[j]\n",
    "\n",
    "        if LU[j, j] == 0:\n",
    "            if Info == 0:\n",
    "                Info = j + 1\n",
    "            continue\n",
    "\n",
    "        PdU *= LU[j, j]\n",
    "\n",
    "        if abs(LU[j, j]) != 0:\n",
    "            r = 1 / LU[j, j]\n",
    "            for i in range(j + 1, m):\n",
    "                Mult = LU[i, j] * r\n",
    "                LU[i, j] = Mult\n",
    "                LU[i, j + 1:] -= Mult * LU[j, j + 1:]\n",
    "        else:\n",
    "            if Info == 0:\n",
    "                Info = j + 1\n",
    "\n",
    "    if Info != 0:\n",
    "        raise ValueError(f\"Matrix is singular at row {Info}\")\n",
    "\n",
    "    y = forward_substitution_LU(LU, b, Pivot)\n",
    "\n",
    "    x = back_substitution(LU, y)\n",
    "\n",
    "    return x, LU, Pivot, PdU, Info\n"
   ]
  },
  {
   "cell_type": "code",
   "execution_count": 117,
   "metadata": {},
   "outputs": [],
   "source": [
    "#TODO usar pivotamento\n",
    "\n",
    "def cholesky_decomposition(A, b, use_pivoting=False):\n",
    "    n = A.shape[0]\n",
    "    L = np.zeros_like(A)\n",
    "    Det = 1.0\n",
    "    Info = 0\n",
    "    \n",
    "    for j in range(n):\n",
    "        Soma = 0.0\n",
    "        for k in range(j):\n",
    "            Soma += L[j, k] * L[j, k]\n",
    "        \n",
    "        t = A[j, j] - Soma\n",
    "        if t > 0:\n",
    "            L[j, j] = np.sqrt(t)\n",
    "            r = 1 / L[j, j]\n",
    "            Det *= t\n",
    "        else:\n",
    "            Info = j + 1\n",
    "            raise ValueError(\"Matrix is not positive definite\")\n",
    "        \n",
    "        for i in range(j + 1, n):\n",
    "            Soma = 0.0\n",
    "            for k in range(j):\n",
    "                Soma += L[i, k] * L[j, k]\n",
    "            L[i, j] = (A[i, j] - Soma) * r\n",
    "    \n",
    "    y = forward_substitution(L, b)\n",
    "    \n",
    "    x = back_substitution(L.T, y)\n",
    "    \n",
    "    return x, L, Det, Info\n"
   ]
  },
  {
   "cell_type": "code",
   "execution_count": 118,
   "metadata": {},
   "outputs": [],
   "source": [
    "def gauss_jacobi(A, b, toler, iter_max):\n",
    "    n = len(b)\n",
    "    x = np.zeros_like(b)\n",
    "    v = np.zeros_like(b)\n",
    "    iter_count = 0\n",
    "    \n",
    "    for i in range(n):\n",
    "        x[i] = b[i] / A[i, i]\n",
    "    \n",
    "    while True:\n",
    "        iter_count += 1\n",
    "        \n",
    "        for i in range(n):\n",
    "            sum = 0\n",
    "            for j in range(n):\n",
    "                if i != j:\n",
    "                    sum += A[i, j] * x[j]\n",
    "            v[i] = (b[i] - sum) / A[i, i]\n",
    "        \n",
    "        norma_num = 0\n",
    "        norma_den = 0\n",
    "        \n",
    "        for i in range(n):\n",
    "            t = abs(v[i] - x[i])\n",
    "            if t > norma_num:\n",
    "                norma_num = t\n",
    "            if abs(v[i]) > norma_den:\n",
    "                norma_den = abs(v[i])\n",
    "            x[i] = v[i]\n",
    "        \n",
    "        norma_rel = norma_num / norma_den\n",
    "        # print(f\"Iteração: {iter_count}, x: {x}, NormaRel: {norma_rel}\")\n",
    "        \n",
    "        if norma_rel <= toler or iter_count >= iter_max:\n",
    "            break\n",
    "    \n",
    "    if norma_rel <= toler:\n",
    "        info = 0\n",
    "    else:\n",
    "        info = 1\n",
    "    \n",
    "    return x, iter_count, info\n"
   ]
  },
  {
   "cell_type": "code",
   "execution_count": 119,
   "metadata": {},
   "outputs": [],
   "source": [
    "import numpy as np\n",
    "\n",
    "def gauss_seidel(A, b, tol, iter_max):\n",
    "    n = len(b)\n",
    "    x = np.zeros_like(b, dtype=np.double)\n",
    "    iter_count = 0\n",
    "    info = 1\n",
    "\n",
    "    for i in range(n):\n",
    "        x[i] = b[i] / A[i, i]\n",
    "\n",
    "    for iter_count in range(1, iter_max + 1):\n",
    "        # x_old = np.copy(x)\n",
    "        norma_num = 0\n",
    "        norma_den = 0\n",
    "\n",
    "        for i in range(n):\n",
    "            soma = 0\n",
    "            \n",
    "            for j in range(n):\n",
    "                if i != j:\n",
    "                    soma += A[i, j] * x[j]\n",
    "                    \n",
    "            v = x[i]\n",
    "            x[i] = (b[i] - soma) / A[i, i]\n",
    "            t = abs(v - x[i])\n",
    "            \n",
    "            if t > norma_num:\n",
    "                norma_num = t\n",
    "                \n",
    "            if abs(x[i]) > norma_den:\n",
    "                norma_den = abs(x[i])\n",
    "\n",
    "        norma_rel = norma_num / norma_den\n",
    "        # print(f\"Iteração {iter_count}: x = {x}, NormaRel = {norma_rel}\")\n",
    "\n",
    "        if norma_rel <= tol or iter_count >= iter_max:\n",
    "            if norma_rel <= tol:\n",
    "                info = 0\n",
    "            break\n",
    "\n",
    "    return x, iter_count, info\n"
   ]
  },
  {
   "cell_type": "markdown",
   "metadata": {},
   "source": [
    "# Exercícios"
   ]
  },
  {
   "cell_type": "markdown",
   "metadata": {},
   "source": [
    "## Exercício 1"
   ]
  },
  {
   "cell_type": "code",
   "execution_count": 120,
   "metadata": {},
   "outputs": [],
   "source": [
    "# # Gauss eliminatioon\n",
    "# A = np.array([\n",
    "#     [2, 3, -1],\n",
    "#     [4, 4, -3],\n",
    "#     [2, -3, 1]])\n",
    "\n",
    "# b = np.array([5, 3, -1])\n",
    "\n",
    "# solution = gauss_elimination(A, b, use_pivoting=True)\n",
    "# print(solution)"
   ]
  },
  {
   "cell_type": "code",
   "execution_count": 121,
   "metadata": {},
   "outputs": [],
   "source": [
    "# # LU Decomposition\n",
    "# A = np.array([\n",
    "#     [3, 2, 4],\n",
    "#     [0, 0.333, 0.666],\n",
    "#     [0, 0, -8]])\n",
    "\n",
    "# b = np.array([1, 1.666, 0])\n",
    "\n",
    "# # -------------------------------\n",
    "\n",
    "# # A = np.array([\n",
    "# #     [1, 0, 0],\n",
    "# #     [0.333, 1, 0],\n",
    "# #     [1.333, 1, 1]])\n",
    "\n",
    "# # b = np.array([1, 2, 3])\n",
    "\n",
    "# # -------------------------------\n",
    "\n",
    "# # A = np.array([\n",
    "# #     [1, 5, 5], \n",
    "# #     [6, 9, 22], \n",
    "# #     [32, 5., 5]])\n",
    "\n",
    "# # b = np.array([1, 2, 7])\n",
    "\n",
    "# # -------------------------------\n",
    "\n",
    "# # A = np.array([[1, 2, 4, 3],\n",
    "# #               [2, 0, 2, 1],\n",
    "# #               [4, 1, 3, 2],\n",
    "# #               [1, 0, 1, 1]], dtype=float)\n",
    "\n",
    "# # b = np.array([16, 13, 27, 7], dtype=float)\n",
    "\n",
    "# solution, LU, Pivot, PdU, Info = LU_decomposition(A, b, True)\n",
    "\n",
    "# print(\"Solution:\", solution)\n",
    "# print(\"LU matrix:\\n\", LU)\n",
    "# print(\"Pivot indices:\", Pivot)\n",
    "# print(\"Product of the diagonal of U:\", PdU)\n",
    "# print(\"Info:\", Info) "
   ]
  },
  {
   "cell_type": "code",
   "execution_count": 122,
   "metadata": {},
   "outputs": [],
   "source": [
    "# # cholesky_decomposition\n",
    "\n",
    "# A = np.array([[4, 2, -4],\n",
    "#                [2, 10, 4],\n",
    "#                [-4, 4, 9]], dtype=float)\n",
    "\n",
    "# b = np.array([0, 6, 5], dtype=float)\n",
    "\n",
    "# x, L, Det, Info = cholesky_decomposition(A, b, True)\n",
    "\n",
    "# print(\"Solution x:\", x)\n",
    "# print(\"Lower triangular matrix L:\\n\", L)\n",
    "# print(\"Determinant:\", Det)\n",
    "# print(\"Info:\", Info)"
   ]
  },
  {
   "cell_type": "code",
   "execution_count": 126,
   "metadata": {},
   "outputs": [
    {
     "name": "stdout",
     "output_type": "stream",
     "text": [
      "Solução: [ 1. -2.  1.]\n",
      "Iterações: 23\n",
      "Info: 0\n"
     ]
    }
   ],
   "source": [
    "# Gauss Jacobi\n",
    "\n",
    "# A = np.array([[10, -1, 2, 0],\n",
    "#               [-1, 11, -1, 3],\n",
    "#               [2, -1, 10, -1],\n",
    "#               [0, 3, -1, 8]], dtype=float)\n",
    "\n",
    "# b = np.array([6, 25, -11, 15], dtype=float)\n",
    "\n",
    "A = np.array([[10, 2, 1], [1, 5, 1], [2, 3, 10]], dtype=float)\n",
    "\n",
    "b = np.array([7, -8, 6], dtype=float)\n",
    "\n",
    "toler = 1e-10\n",
    "iter_max = 100\n",
    "\n",
    "x, iter_count, info = gauss_jacobi(A, b, toler, iter_max)\n",
    "\n",
    "print(f\"Solução: {x}\")\n",
    "print(f\"Iterações: {iter_count}\")\n",
    "print(f\"Info: {info}\")"
   ]
  },
  {
   "cell_type": "code",
   "execution_count": 124,
   "metadata": {},
   "outputs": [],
   "source": [
    "# # Gauss Seidel\n",
    "\n",
    "# A = np.array([[10, 2, 1], [1, 5, 1], [2, 3, 10]], dtype=np.double)\n",
    "\n",
    "# b = np.array([7, -8, 6], dtype=np.double)\n",
    "\n",
    "# tol = 1e-6\n",
    "# iter_max = 100\n",
    "\n",
    "# x, iter_count, info = gauss_seidel(A, b, tol, iter_max)\n",
    "\n",
    "# print(f\"Solução: {x}\")\n",
    "# print(f\"Número de iterações: {iter_count}\")\n",
    "# print(f\"Info: {info}\")\n"
   ]
  }
 ],
 "metadata": {
  "kernelspec": {
   "display_name": "Python 3",
   "language": "python",
   "name": "python3"
  },
  "language_info": {
   "codemirror_mode": {
    "name": "ipython",
    "version": 3
   },
   "file_extension": ".py",
   "mimetype": "text/x-python",
   "name": "python",
   "nbconvert_exporter": "python",
   "pygments_lexer": "ipython3",
   "version": "3.10.9"
  }
 },
 "nbformat": 4,
 "nbformat_minor": 2
}
