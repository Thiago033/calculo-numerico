{
 "cells": [
  {
   "cell_type": "markdown",
   "metadata": {},
   "source": [
    "# Relatório 2\n",
    "\n",
    "**Nome:** Thiago Lopes <br>\n",
    "**Matrícula:** 20100358 <br>\n",
    "**Turma:** T2"
   ]
  },
  {
   "cell_type": "markdown",
   "metadata": {},
   "source": [
    "# Bibliotecas python utilizadas"
   ]
  },
  {
   "cell_type": "code",
   "execution_count": 76,
   "metadata": {},
   "outputs": [],
   "source": [
    "import math\n",
    "import matplotlib.pyplot as plt\n",
    "import numpy as np\n",
    "from prettytable import PrettyTable\n",
    "import sympy"
   ]
  },
  {
   "cell_type": "markdown",
   "metadata": {},
   "source": [
    "# Métodos implementados (Gaussian Elimination, ):"
   ]
  },
  {
   "cell_type": "code",
   "execution_count": 77,
   "metadata": {},
   "outputs": [],
   "source": [
    "def gauss_elimination(A, b, use_pivoting=False):\n",
    "    n = len(b)\n",
    "    A = A.astype(float)\n",
    "    b = b.astype(float)\n",
    "\n",
    "    #eliminacao com ou sem pivotamento\n",
    "    for k in range(n-1):\n",
    "        if use_pivoting:\n",
    "            max_index = np.argmax(np.abs(A[k:n, k])) + k\n",
    "\n",
    "            if max_index != k:\n",
    "                A[[k, max_index]] = A[[max_index, k]]\n",
    "                b[[k, max_index]] = b[[max_index, k]]\n",
    "\n",
    "        for i in range(k+1, n):\n",
    "            m = A[i][k] / A[k][k]\n",
    "            A[i][k] = 0\n",
    "            \n",
    "            for j in range(k+1, n):\n",
    "                A[i][j] -= m * A[k][j]\n",
    "                \n",
    "            b[i] -= m * b[k]\n",
    "\n",
    "    #solucao do sistema\n",
    "    x = np.zeros(n)\n",
    "    \n",
    "    x[n-1] = b[n-1] / A[n-1][n-1]\n",
    "    \n",
    "    for k in range(n-2, -1, -1):\n",
    "        s = 0\n",
    "        \n",
    "        for j in range(k+1, n):\n",
    "            s += A[k][j] * x[j]\n",
    "            \n",
    "        x[k] = (b[k] - s) / A[k][k]\n",
    "\n",
    "    return x\n"
   ]
  },
  {
   "cell_type": "code",
   "execution_count": 78,
   "metadata": {},
   "outputs": [],
   "source": [
    "def LU_decomposition(A, b):\n",
    "    A = A.astype(np.float64)  # Convert A to float64\n",
    "    m, n = A.shape\n",
    "    if m != n:\n",
    "        raise ValueError(\"Matrix must be square\")\n",
    "\n",
    "    # Perform LU decomposition with partial pivoting\n",
    "    Pivot = np.arange(1, m + 1)\n",
    "    PdU = 1.0\n",
    "    Info = 0\n",
    "    LU = A.copy()\n",
    "\n",
    "    for j in range(n):\n",
    "        p = j\n",
    "        Amax = abs(LU[j, j])\n",
    "        for k in range(j + 1, m):\n",
    "            if abs(LU[k, j]) > Amax:\n",
    "                Amax = abs(LU[k, j])\n",
    "                p = k\n",
    "\n",
    "        if p != j:\n",
    "            LU[[j, p], :] = LU[[p, j], :]\n",
    "            Pivot[j], Pivot[p] = Pivot[p], Pivot[j]\n",
    "            PdU *= -1  # Multiply by -1 for each row swap\n",
    "\n",
    "        PdU *= LU[j, j]\n",
    "\n",
    "        if abs(LU[j, j]) != 0:\n",
    "            r = 1 / LU[j, j]\n",
    "            for i in range(j + 1, m):\n",
    "                Mult = LU[i, j] * r\n",
    "                LU[i, j] = Mult\n",
    "                LU[i, j + 1:] -= Mult * LU[j, j + 1:]\n",
    "        else:\n",
    "            if Info == 0:\n",
    "                Info = j + 1  # Info should be 1-indexed\n",
    "\n",
    "    if Info != 0:\n",
    "        raise ValueError(f\"Matrix is singular at row {Info}\")\n",
    "\n",
    "    # Solve using forward and backward substitution\n",
    "    y = np.zeros(m)\n",
    "    for i in range(m):\n",
    "        y[i] = b[Pivot[i] - 1] - np.dot(LU[i, :i], y[:i])\n",
    "\n",
    "    x = np.zeros(m)\n",
    "    for i in range(m - 1, -1, -1):\n",
    "        x[i] = (y[i] - np.dot(LU[i, i + 1:], x[i + 1:])) / LU[i, i]\n",
    "\n",
    "    return x, LU, Pivot, PdU, Info\n"
   ]
  },
  {
   "cell_type": "markdown",
   "metadata": {},
   "source": [
    "# Exercícios"
   ]
  },
  {
   "cell_type": "markdown",
   "metadata": {},
   "source": [
    "## Exercício 1"
   ]
  },
  {
   "cell_type": "code",
   "execution_count": 79,
   "metadata": {},
   "outputs": [
    {
     "name": "stdout",
     "output_type": "stream",
     "text": [
      "[1. 2. 3.]\n",
      "Solution x: [-3.002002  5.003003  0.      ]\n",
      "LU matrix:\n",
      " [[3.    2.    4.   ]\n",
      " [0.    0.333 0.666]\n",
      " [0.    0.    8.   ]]\n",
      "Pivot indices: [1 2 3]\n",
      "Product of the diagonal of U: 7.992000000000001\n",
      "Info: 0\n"
     ]
    }
   ],
   "source": [
    "# Gauss eliminatioon\n",
    "A = np.array([\n",
    "    [2, 3, -1],\n",
    "    [4, 4, -3],\n",
    "    [2, -3, 1]])\n",
    "\n",
    "b = np.array([5, 3, -1])\n",
    "\n",
    "solution = gauss_elimination(A, b, use_pivoting=True)\n",
    "print(solution)\n",
    "\n",
    "\n",
    "# LU Decomposition\n",
    "A = np.array([[3, 2, 4],\n",
    "               [0, 0.333, 0.666],\n",
    "               [0, 0, 8]])\n",
    "\n",
    "b = np.array([1, 1.666, 0])\n"
   ]
  }
 ],
 "metadata": {
  "kernelspec": {
   "display_name": "Python 3",
   "language": "python",
   "name": "python3"
  },
  "language_info": {
   "codemirror_mode": {
    "name": "ipython",
    "version": 3
   },
   "file_extension": ".py",
   "mimetype": "text/x-python",
   "name": "python",
   "nbconvert_exporter": "python",
   "pygments_lexer": "ipython3",
   "version": "3.12.3"
  }
 },
 "nbformat": 4,
 "nbformat_minor": 2
}
