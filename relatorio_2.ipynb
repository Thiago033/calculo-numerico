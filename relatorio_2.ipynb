{
 "cells": [
  {
   "cell_type": "markdown",
   "metadata": {},
   "source": [
    "# Relatório 2\n",
    "\n",
    "**Nome:** Thiago Lopes <br>\n",
    "**Matrícula:** 20100358 <br>\n",
    "**Turma:** T2"
   ]
  },
  {
   "cell_type": "markdown",
   "metadata": {},
   "source": [
    "# Bibliotecas python utilizadas"
   ]
  },
  {
   "cell_type": "code",
   "execution_count": 122,
   "metadata": {},
   "outputs": [],
   "source": [
    "import math\n",
    "import matplotlib.pyplot as plt\n",
    "import numpy as np\n",
    "from prettytable import PrettyTable\n",
    "import sympy\n"
   ]
  },
  {
   "cell_type": "markdown",
   "metadata": {},
   "source": [
    "# Funçoes Auxiliares"
   ]
  },
  {
   "cell_type": "code",
   "execution_count": 123,
   "metadata": {},
   "outputs": [],
   "source": [
    "def pivot(A, b, k):\n",
    "    n = len(b)\n",
    "    \n",
    "    max_index = np.argmax(np.abs(A[k:n, k])) + k\n",
    "    \n",
    "    if max_index != k:\n",
    "        A[[k, max_index]] = A[[max_index, k]]\n",
    "        b[[k, max_index]] = b[[max_index, k]]"
   ]
  },
  {
   "cell_type": "code",
   "execution_count": 124,
   "metadata": {},
   "outputs": [],
   "source": [
    "def back_substitution(U, y):\n",
    "    m = len(y)\n",
    "    x = np.zeros(m)\n",
    "    \n",
    "    for i in range(m - 1, -1, -1):\n",
    "        x[i] = round((y[i] - np.dot(U[i, i + 1:], x[i + 1:])) / U[i, i], 3)\n",
    "        \n",
    "    return x\n"
   ]
  },
  {
   "cell_type": "code",
   "execution_count": 125,
   "metadata": {},
   "outputs": [],
   "source": [
    "def forward_substitution(L, b):\n",
    "    n = L.shape[0]\n",
    "    y = np.zeros_like(b)\n",
    "    \n",
    "    for i in range(n):\n",
    "        y[i] = (b[i] - np.dot(L[i, :i], y[:i])) / L[i, i]\n",
    "    \n",
    "    return y\n"
   ]
  },
  {
   "cell_type": "code",
   "execution_count": 126,
   "metadata": {},
   "outputs": [],
   "source": [
    "def forward_substitution_LU(L, b, Pivot):\n",
    "    m = len(b)\n",
    "    y = np.zeros(m)\n",
    "    \n",
    "    for i in range(m):\n",
    "        y[i] = b[Pivot[i] - 1] - np.dot(L[i, :i], y[:i])        \n",
    "    return y\n"
   ]
  },
  {
   "cell_type": "markdown",
   "metadata": {},
   "source": [
    "# Métodos implementados: Gaussian Elimination, LU Decomposition, Cholesky Decomposition,:"
   ]
  },
  {
   "cell_type": "code",
   "execution_count": 127,
   "metadata": {},
   "outputs": [],
   "source": [
    "def gauss_elimination(A, b, use_pivoting=False):\n",
    "    n = len(b)\n",
    "    A = A.astype(float)\n",
    "    b = b.astype(float)\n",
    "\n",
    "    for k in range(n-1):\n",
    "        if use_pivoting:\n",
    "            pivot(A, b, k)\n",
    "\n",
    "        for i in range(k+1, n):\n",
    "            m = round(A[i][k] / A[k][k], 3)\n",
    "            A[i][k] = 0\n",
    "            \n",
    "            for j in range(k+1, n):\n",
    "                A[i][j] = round(A[i][j] - m * A[k][j], 3)\n",
    "                \n",
    "            b[i] = round(b[i] - m * b[k], 3)\n",
    "\n",
    "    return back_substitution(A, b)\n"
   ]
  },
  {
   "cell_type": "code",
   "execution_count": 128,
   "metadata": {},
   "outputs": [],
   "source": [
    "def LU_decomposition(A, b, use_pivoting=False):\n",
    "    A = A.astype(np.float64)\n",
    "    b = b.astype(np.float64)\n",
    "\n",
    "    m, n = A.shape\n",
    "    \n",
    "    if m != n:\n",
    "        raise ValueError(\"Matrix must be square\")\n",
    "    \n",
    "    Pivot = np.arange(1, m + 1)\n",
    "    PdU = 1.0\n",
    "    Info = 0\n",
    "    LU = A.copy()\n",
    "\n",
    "    for j in range(n):\n",
    "        if use_pivoting:\n",
    "            pivot(LU, b, j)\n",
    "        \n",
    "        Pivot[j], Pivot[np.argmax(np.abs(LU[j:, j])) + j] = Pivot[np.argmax(np.abs(LU[j:, j])) + j], Pivot[j]\n",
    "\n",
    "        if LU[j, j] == 0:\n",
    "            if Info == 0:\n",
    "                Info = j + 1\n",
    "            continue\n",
    "\n",
    "        PdU *= LU[j, j]\n",
    "\n",
    "        if abs(LU[j, j]) != 0:\n",
    "            r = 1 / LU[j, j]\n",
    "            for i in range(j + 1, m):\n",
    "                Mult = LU[i, j] * r\n",
    "                LU[i, j] = Mult\n",
    "                LU[i, j + 1:] -= Mult * LU[j, j + 1:]\n",
    "        else:\n",
    "            if Info == 0:\n",
    "                Info = j + 1\n",
    "\n",
    "    if Info != 0:\n",
    "        raise ValueError(f\"Matrix is singular at row {Info}\")\n",
    "\n",
    "    y = forward_substitution_LU(LU, b, Pivot)\n",
    "\n",
    "    x = back_substitution(LU, y)\n",
    "\n",
    "    return x, LU, Pivot, PdU, Info\n"
   ]
  },
  {
   "cell_type": "code",
   "execution_count": 129,
   "metadata": {},
   "outputs": [],
   "source": [
    "def cholesky_decomposition(A, b, use_pivoting=False):\n",
    "    n = A.shape[0]\n",
    "    L = np.zeros_like(A)\n",
    "    Det = 1.0\n",
    "    Info = 0\n",
    "    \n",
    "    if use_pivoting:\n",
    "        for k in range(n):\n",
    "            pivot(A, b, k)\n",
    "    \n",
    "    for j in range(n):\n",
    "        Soma = 0.0\n",
    "        for k in range(j):\n",
    "            Soma += L[j, k] * L[j, k]\n",
    "        \n",
    "        t = A[j, j] - Soma\n",
    "        if t > 0:\n",
    "            L[j, j] = np.sqrt(t)\n",
    "            r = 1 / L[j, j]\n",
    "            Det *= t\n",
    "        else:\n",
    "            Info = j + 1\n",
    "            raise ValueError(\"Matrix is not positive definite\")\n",
    "        \n",
    "        for i in range(j + 1, n):\n",
    "            Soma = 0.0\n",
    "            for k in range(j):\n",
    "                Soma += L[i, k] * L[j, k]\n",
    "            L[i, j] = (A[i, j] - Soma) * r\n",
    "    \n",
    "    y = forward_substitution(L, b)\n",
    "    x = back_substitution(L.T, y)\n",
    "    \n",
    "    return x, L, Det, Info\n"
   ]
  },
  {
   "cell_type": "code",
   "execution_count": 130,
   "metadata": {},
   "outputs": [],
   "source": [
    "def gauss_jacobi(A, b, toler, iter_max):\n",
    "    n = len(b)\n",
    "    x = np.zeros_like(b)\n",
    "    v = np.zeros_like(b)\n",
    "    iter_count = 0\n",
    "    \n",
    "    for i in range(n):\n",
    "        x[i] = b[i] / A[i, i]\n",
    "    \n",
    "    while True:\n",
    "        iter_count += 1\n",
    "        \n",
    "        for i in range(n):\n",
    "            sum = 0\n",
    "            for j in range(n):\n",
    "                if i != j:\n",
    "                    sum += A[i, j] * x[j]\n",
    "            v[i] = (b[i] - sum) / A[i, i]\n",
    "        \n",
    "        norma_num = 0\n",
    "        norma_den = 0\n",
    "        \n",
    "        for i in range(n):\n",
    "            t = abs(v[i] - x[i])\n",
    "            if t > norma_num:\n",
    "                norma_num = t\n",
    "            if abs(v[i]) > norma_den:\n",
    "                norma_den = abs(v[i])\n",
    "            x[i] = v[i]\n",
    "        \n",
    "        norma_rel = norma_num / norma_den\n",
    "        # print(f\"Iteração: {iter_count}, x: {x}, NormaRel: {norma_rel}\")\n",
    "        \n",
    "        if norma_rel <= toler or iter_count >= iter_max:\n",
    "            break\n",
    "    \n",
    "    if norma_rel <= toler:\n",
    "        info = 0\n",
    "    else:\n",
    "        info = 1\n",
    "    \n",
    "    return x, iter_count, info\n"
   ]
  },
  {
   "cell_type": "code",
   "execution_count": 131,
   "metadata": {},
   "outputs": [],
   "source": [
    "def gauss_seidel(A, b, tol, iter_max):\n",
    "    n = len(b)\n",
    "    x = np.zeros_like(b, dtype=np.double)\n",
    "    iter_count = 0\n",
    "    info = 1\n",
    "\n",
    "    for i in range(n):\n",
    "        x[i] = b[i] / A[i, i]\n",
    "\n",
    "    for iter_count in range(1, iter_max + 1):\n",
    "        # x_old = np.copy(x)\n",
    "        norma_num = 0\n",
    "        norma_den = 0\n",
    "\n",
    "        for i in range(n):\n",
    "            soma = 0\n",
    "            \n",
    "            for j in range(n):\n",
    "                if i != j:\n",
    "                    soma += A[i, j] * x[j]\n",
    "                    \n",
    "            v = x[i]\n",
    "            x[i] = (b[i] - soma) / A[i, i]\n",
    "            t = abs(v - x[i])\n",
    "            \n",
    "            if t > norma_num:\n",
    "                norma_num = t\n",
    "                \n",
    "            if abs(x[i]) > norma_den:\n",
    "                norma_den = abs(x[i])\n",
    "\n",
    "        norma_rel = norma_num / norma_den\n",
    "        # print(f\"Iteração {iter_count}: x = {x}, NormaRel = {norma_rel}\")\n",
    "\n",
    "        if norma_rel <= tol or iter_count >= iter_max:\n",
    "            if norma_rel <= tol:\n",
    "                info = 0\n",
    "            break\n",
    "\n",
    "    return x, iter_count, info\n"
   ]
  },
  {
   "cell_type": "code",
   "execution_count": null,
   "metadata": {},
   "outputs": [],
   "source": [
    "def newton():\n",
    "    "
   ]
  },
  {
   "cell_type": "markdown",
   "metadata": {},
   "source": [
    "# Exercícios"
   ]
  },
  {
   "cell_type": "markdown",
   "metadata": {},
   "source": [
    "## Exercício 1"
   ]
  },
  {
   "cell_type": "code",
   "execution_count": 132,
   "metadata": {},
   "outputs": [
    {
     "name": "stdout",
     "output_type": "stream",
     "text": [
      "[ 6. 11. -3.]\n",
      "[ 26. -11.  -7.]\n"
     ]
    }
   ],
   "source": [
    "A1 = np.array([\n",
    "    [0, 3, 2],\n",
    "    [1, 4, 1],\n",
    "    [0, 2, 5]])\n",
    "\n",
    "b1 = np.array([5, 6, 7])\n",
    "# 0x+3y+2z=5, 1x+4y+1z=6, 0x+2y+5z=7\n",
    "# 0x+3y+2z=5\n",
    "# 1x+4y+1z=6\n",
    "# 0x+2y+5z=7\n",
    "\n",
    "A2 = np.array([\n",
    "    [-2, -2, 0],\n",
    "    [1, 3, -1],\n",
    "    [0, -1, 2]])\n",
    "\n",
    "b2 = np.array([-1, 3, 1])\n",
    "# -2x+-2y+0z=-1\n",
    "# 1x+3y+-1z=3\n",
    "# 0x-1y+2z=1\n",
    "\n",
    "A3 = np.array([\n",
    "    [1, 2, 3],\n",
    "    [2, 6, 0],\n",
    "    [1, 0, 4]])\n",
    "\n",
    "b3 = np.array([4, 8, 5])\n",
    "\n",
    "# -----------------------------------------------------------------------\n",
    "\n",
    "# print(gauss_elimination(A1, b1, use_pivoting=False))\n",
    "# print(gauss_elimination(A2, b2, use_pivoting=False))\n",
    "# print(gauss_elimination(A3, b3, use_pivoting=False))\n",
    "\n",
    "# sem pivotamento\n",
    "# [nan nan nan]\n",
    "# [-1.5  2.   1.5]\n",
    "# [ 5.8 -0.6 -0.2]\n",
    "\n",
    "# com pivotamento\n",
    "# [1. 1. 1.]\n",
    "# [-1.5  2.   1.5]\n",
    "# [ 5.8 -0.6 -0.2]\n",
    "\n",
    "# -----------------------------------------------------------------------\n",
    "\n",
    "# solution, LU, Pivot, PdU, Info = LU_decomposition(A1, b1, True)\n",
    "# print(\"Solution:\", solution)\n",
    "# print(\"LU matrix:\\n\", LU)\n",
    "# print(\"Pivot indices:\", Pivot)\n",
    "# print(\"Product of the diagonal of U:\", PdU)\n",
    "# print(\"Info:\", Info)\n",
    "\n",
    "# solution, LU, Pivot, PdU, Info = LU_decomposition(A2, b2, True)\n",
    "# print(\"Solution:\", solution)\n",
    " \n",
    "# solution, LU, Pivot, PdU, Info = LU_decomposition(A3, b3, True)\n",
    "# print(\"Solution:\", solution)\n",
    "\n",
    "\n",
    "# sem pivotamento\n",
    "# ???\n",
    "# Solution: [-1.5  2.   1.5]\n",
    "# Solution: [ 5.8 -0.6 -0.2]\n",
    "\n",
    "# com pivotamento\n",
    "# [1. 1. 1.]\n",
    "# [-1.5  2.   1.5]\n",
    "# [ 5.8 -0.6 -0.2]\n",
    "\n",
    "# -----------------------------------------------------------------------\n",
    "\n",
    "x, L, Det, Info = cholesky_decomposition(A1, b1, True)\n",
    "print(x)\n",
    "# print(\"Lower triangular matrix L:\\n\", L)\n",
    "# print(\"Determinant:\", Det)\n",
    "# print(\"Info:\", Info)\n",
    "\n",
    "# matrix is not symmetric matrix, so matrix is not positive definite\n",
    "\n",
    "# x, L, Det, Info = cholesky_decomposition(A2, b2, True)\n",
    "# print(x)\n",
    "\n",
    "x, L, Det, Info = cholesky_decomposition(A3, b3, True)\n",
    "print(x)\n",
    "    \n",
    "# sem pivotamento\n",
    "\n",
    "\n",
    "# com pivotamento\n",
    "\n"
   ]
  },
  {
   "cell_type": "markdown",
   "metadata": {},
   "source": [
    "## Exercício 2"
   ]
  },
  {
   "cell_type": "code",
   "execution_count": 133,
   "metadata": {},
   "outputs": [
    {
     "name": "stdout",
     "output_type": "stream",
     "text": [
      "[ 1.  0. -1.]\n"
     ]
    }
   ],
   "source": [
    "A1 = np.array([\n",
    "    [1, 1, 3],\n",
    "    [1, 1, 4],\n",
    "    [5, 2, 1]])\n",
    "\n",
    "b1 = np.array([-2, -3, 4])\n",
    "\n",
    "# 1x+1y+3z=-2, ax+1y+4z=-3, 5x+2y+1z=4\n",
    "# 1x+1y+3z=-2\n",
    "# ax+1y+4z=-3\n",
    "# 5x+2y+1z=4\n",
    "\n",
    "print(gauss_elimination(A1, b1, use_pivoting=True))\n"
   ]
  },
  {
   "cell_type": "markdown",
   "metadata": {},
   "source": [
    "## Exercício 3"
   ]
  },
  {
   "cell_type": "code",
   "execution_count": 134,
   "metadata": {},
   "outputs": [
    {
     "name": "stdout",
     "output_type": "stream",
     "text": [
      "Solução: [33 18 12]\n",
      "Solução: [33.99631413 18.89282676 13.38389566]\n"
     ]
    }
   ],
   "source": [
    "# 17x – 2y – 3z = 500\n",
    "# –5x + 21y – 2z = 200\n",
    "# –5x – 5y + 22z = 30\n",
    "\n",
    "A1 = np.array([\n",
    "    [17, -2, -3],\n",
    "    [-5, 21, -2],\n",
    "    [-5, -5, 22]])\n",
    "\n",
    "b1 = np.array([500, 200, 30])\n",
    "\n",
    "x0 = np.array([34, 19, 13], dtype=float)\n",
    "\n",
    "epsilon = 1e-10\n",
    "max_iterations = 10\n",
    "\n",
    "x, iter_count, info = gauss_jacobi(A1, b1, epsilon, max_iterations)\n",
    "print(f\"Solução: {x}\")\n",
    "\n",
    "x, iter_count, info = gauss_seidel(A1, b1, epsilon, max_iterations)\n",
    "print(f\"Solução: {x}\")\n",
    "\n",
    "# Solução: [33 18 12]\n",
    "# Solução: [33.99631415 18.89282676 13.38389566]"
   ]
  },
  {
   "cell_type": "markdown",
   "metadata": {},
   "source": [
    "## Exercício 4"
   ]
  },
  {
   "cell_type": "code",
   "execution_count": 135,
   "metadata": {},
   "outputs": [
    {
     "name": "stdout",
     "output_type": "stream",
     "text": [
      "Solução: [   48941378 -1640500820]\n",
      "Solução: [-3.20720219e+87  9.62160656e+87]\n"
     ]
    },
    {
     "name": "stderr",
     "output_type": "stream",
     "text": [
      "C:\\Users\\thiag\\AppData\\Local\\Temp\\ipykernel_14120\\1094892365.py:17: RuntimeWarning: overflow encountered in scalar multiply\n",
      "  sum += A[i, j] * x[j]\n",
      "C:\\Users\\thiag\\AppData\\Local\\Temp\\ipykernel_14120\\1094892365.py:24: RuntimeWarning: overflow encountered in scalar subtract\n",
      "  t = abs(v[i] - x[i])\n"
     ]
    }
   ],
   "source": [
    "# 2x + 5y = -3\n",
    "# 3x + y = 2\n",
    "\n",
    "A1 = np.array([\n",
    "    [2, 5,],\n",
    "    [3, 1]])\n",
    "\n",
    "b1 = np.array([-3, 2])\n",
    "\n",
    "toler = 1e-10\n",
    "iter_max = 100\n",
    "\n",
    "x, iter_count, info = gauss_jacobi(A1, b1, toler, iter_max)\n",
    "print(f\"Solução: {x}\")\n",
    "# print(f\"Número de iterações: {iter_count}\")\n",
    "# print(f\"Info: {info}\")\n",
    "\n",
    "x, iter_count, info = gauss_seidel(A1, b1, toler, iter_max)\n",
    "print(f\"Solução: {x}\")"
   ]
  },
  {
   "cell_type": "markdown",
   "metadata": {},
   "source": [
    "## Exercício 5"
   ]
  },
  {
   "cell_type": "code",
   "execution_count": 136,
   "metadata": {},
   "outputs": [],
   "source": [
    "# 3sen(x) – 4y –12z – 1 = 0\n",
    "# 4x^2 – 8y – 10z + 5 = 0\n",
    "# 2e^x + 2y + 3z – 8 = 0\n",
    "\n",
    "# aproximação inicial com o valor (0 ,0 ,0)\n",
    "\n",
    "# newton()"
   ]
  }
 ],
 "metadata": {
  "kernelspec": {
   "display_name": "Python 3",
   "language": "python",
   "name": "python3"
  },
  "language_info": {
   "codemirror_mode": {
    "name": "ipython",
    "version": 3
   },
   "file_extension": ".py",
   "mimetype": "text/x-python",
   "name": "python",
   "nbconvert_exporter": "python",
   "pygments_lexer": "ipython3",
   "version": "3.12.3"
  }
 },
 "nbformat": 4,
 "nbformat_minor": 2
}
