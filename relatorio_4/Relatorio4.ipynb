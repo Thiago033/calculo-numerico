{
 "cells": [
  {
   "cell_type": "markdown",
   "metadata": {},
   "source": [
    "# Relatório 2\n",
    "\n",
    "**Nome:** Thiago Lopes <br>\n",
    "**Matrícula:** 20100358 <br>\n",
    "**Turma:** T2"
   ]
  },
  {
   "cell_type": "markdown",
   "metadata": {},
   "source": [
    "# Bibliotecas python utilizadas"
   ]
  },
  {
   "cell_type": "code",
   "execution_count": 73,
   "metadata": {},
   "outputs": [],
   "source": [
    "import numpy as np\n",
    "import math"
   ]
  },
  {
   "cell_type": "markdown",
   "metadata": {},
   "source": [
    "# Funçoes Auxiliares"
   ]
  },
  {
   "cell_type": "code",
   "execution_count": 74,
   "metadata": {},
   "outputs": [],
   "source": [
    "def F_cos_theta(x, F, theta):\n",
    "    return F * math.cos(theta)\n",
    "\n",
    "def exact_solution_B(x):\n",
    "    return -1 + 2 * np.exp(x) - x"
   ]
  },
  {
   "cell_type": "markdown",
   "metadata": {},
   "source": [
    "# Métodos implementados: "
   ]
  },
  {
   "cell_type": "code",
   "execution_count": 75,
   "metadata": {},
   "outputs": [],
   "source": [
    "def simpson_13(a, b, n, f, F_values, theta_values):\n",
    "    if n == 1:\n",
    "        h = b - a\n",
    "        simp13 = 2 * h * (f(a, F_values[0], theta_values[0]) + 4 * f((a + b) / 2, F_values[1], theta_values[1]) + f(b, F_values[2], theta_values[2])) / 6\n",
    "    else:\n",
    "        h = (b - a) / n\n",
    "        \n",
    "        sum = f(a, F_values[0], theta_values[0]) + f(b, F_values[-1], theta_values[-1])\n",
    "        \n",
    "        for i in range(1, n):\n",
    "            x = a + i * h\n",
    "            \n",
    "            if i % 2 == 0:\n",
    "                sum += 2 * f(x, F_values[i], theta_values[i])\n",
    "            else:\n",
    "                sum += 4 * f(x, F_values[i], theta_values[i])\n",
    "                \n",
    "        simp13 = h * sum / 3\n",
    "    \n",
    "    return simp13"
   ]
  },
  {
   "cell_type": "code",
   "execution_count": 76,
   "metadata": {},
   "outputs": [],
   "source": [
    "def trapezio(a, b, n, f, F_values, theta_values):\n",
    "    if n == 1:\n",
    "        h = b - a\n",
    "        trap = h * (f(a, F_values[0], theta_values[0]) + f(b, F_values[1], theta_values[1])) / 2\n",
    "    else:\n",
    "        h = (b - a) / n\n",
    "        \n",
    "        sum = f(a, F_values[0], theta_values[0])\n",
    "        \n",
    "        for i in range(1, n):\n",
    "            x = a + i * h\n",
    "            sum += 2 * f(x, F_values[i], theta_values[i])\n",
    "            \n",
    "        sum += f(b, F_values[-1], theta_values[-1])\n",
    "        \n",
    "        trap = h * sum / 2\n",
    "    \n",
    "    return trap\n",
    "    "
   ]
  },
  {
   "cell_type": "code",
   "execution_count": 77,
   "metadata": {},
   "outputs": [],
   "source": [
    "def simpson_38(a, b, n, f, F_values, theta_values):\n",
    "    if n == 1:\n",
    "        h = b - a\n",
    "        simp38 = 3 * h * (f(a, F_values[0], theta_values[0]) + 3 * f((2 * a + b) / 3, F_values[1], theta_values[1]) + 3 * f((a + 2 * b) / 3, F_values[2], theta_values[2]) + f(b, F_values[3], theta_values[3])) / 8\n",
    "    else:\n",
    "        h = (b - a) / n\n",
    "        \n",
    "        sum = f(a, F_values[0], theta_values[0]) + f(b, F_values[-1], theta_values[-1])\n",
    "        \n",
    "        for i in range(1, n):\n",
    "            x = a + i * h\n",
    "            \n",
    "            if i % 3 == 0:\n",
    "                sum += 2 * f(x, F_values[i], theta_values[i])\n",
    "            else:\n",
    "                sum += 3 * f(x, F_values[i], theta_values[i])\n",
    "                \n",
    "        simp38 = 3 * h * sum / 8\n",
    "\n",
    "    return simp38"
   ]
  },
  {
   "cell_type": "code",
   "execution_count": 78,
   "metadata": {},
   "outputs": [],
   "source": [
    "def euler_method(f, a, b, y0, m):\n",
    "    h = (b - a) / m\n",
    "    x = a\n",
    "    y = y0\n",
    "    \n",
    "    VetX = [x]\n",
    "    VetY = [y]\n",
    "    \n",
    "    for i in range(1, m + 1):\n",
    "        fxy = f(x, y)\n",
    "        x = a + i * h\n",
    "        y = y + h * fxy\n",
    "        \n",
    "        VetX.append(x)\n",
    "        VetY.append(y)\n",
    "    \n",
    "    return VetX, VetY"
   ]
  },
  {
   "cell_type": "markdown",
   "metadata": {},
   "source": [
    "# Exercícios"
   ]
  },
  {
   "cell_type": "markdown",
   "metadata": {},
   "source": [
    "## Exercício 1"
   ]
  },
  {
   "cell_type": "markdown",
   "metadata": {},
   "source": [
    "1) O trabalho realizado por uma força F(x) cujo ângulo entre a direção do movimento e a força é dado por θ(x), pode ser obtido pela seguinte fórmula: \n",
    "\n",
    "W =∫^xn^x0 F( x ) cos(θ ( x )) dx\n",
    "\n",
    "Em que x0 e xn são as posições inicial e final, respectivamente.\n",
    "\n",
    "Calcule a melhor aproximação ao trabalho realizado, W, ao puxar um bloco da posição 0 até à posição 30 sabendo que a força aplicada e o ângulo usado são dados na tabela seguinte.\n",
    "\n",
    "x    | 0   | 2,5 | 5   | 15  | 20   | 25   | 30  |<br>\n",
    "F(x) | 0   | 7   | 9   | 14  | 10,5 | 12   | 5   |<br>\n",
    "θ(x) | 0,5 | 0,9 | 1,4 | 0,9 | 1,3  | 1,48 | 1,5 |<br>\n",
    "\n",
    "Observação: Verificam-se 3 grupos de espaçamentos distintos. <br>\n",
    "\n",
    "a) Aplicar o Método de 1/3 de Simpson Repetido no Grupo 1, o qual possui 2 subintervalos, h = 2,5.<br>\n",
    "\n",
    "b) Aplicar o Método do Trapézio Repetido no Grupo 2, o qual possui 1 subintervalo, h = 10.<br>\n",
    "\n",
    "c) Aplicar o Método do 3/8 Simpson Repetido no Grupo 3, o qual possui 3 subintervalos, h = 5.<br>\n"
   ]
  },
  {
   "cell_type": "code",
   "execution_count": 79,
   "metadata": {},
   "outputs": [
    {
     "name": "stdout",
     "output_type": "stream",
     "text": [
      "\n",
      "Simpson 1/3\n",
      "Trabalho aproximado no intervalo [0, 2.5, 5]: 15.778986164733977\n",
      "\n",
      "Trapezio\n",
      "Trabalho aproximado no intervalo [5, 15]: 51.16121920945736\n",
      "\n",
      "Simpson 3/8\n",
      "Trabalho aproximado no intervalo [15, 20, 25, 30]: 38.899907149720256\n",
      "\n",
      "Soma dos Trabalhos Calculados: 105.84011252391159\n"
     ]
    }
   ],
   "source": [
    "# Valores fornecidos\n",
    "x_values = [0, 2.5, 5, 15, 20, 25, 30]\n",
    "F_values = [0, 7, 9, 14, 10.5, 12, 5]\n",
    "theta_values = [0.5, 0.9, 1.4, 0.9, 1.3, 1.48, 1.5]\n",
    "            \n",
    "# Metodo de Simpson no intervalo [0, 2.5, 5] com 2 subintervalos\n",
    "a, b = 0, 5\n",
    "n = 2\n",
    "resultado1 = simpson_13(a, b, n, F_cos_theta, F_values[:3], theta_values[:3])\n",
    "print('\\nSimpson 1/3')\n",
    "print(f'Trabalho aproximado no intervalo [0, 2.5, 5]: {resultado1}')\n",
    "\n",
    "# ------------------\n",
    "\n",
    "# Metodo do Trapézio no intervalo [5, 15] com 1 subintervalos\n",
    "a, b = 5, 15\n",
    "n = 1\n",
    "resultado2 = trapezio(a, b, n, F_cos_theta, F_values[2:4], theta_values[2:4])\n",
    "print('\\nTrapezio')\n",
    "print(f'Trabalho aproximado no intervalo [5, 15]: {resultado2}')\n",
    "\n",
    "# -------------------\n",
    "\n",
    "# Metodo de Simpson 3/8 no intervalo [15, 20, 25, 30] com 3 subintervalos\n",
    "a, b = 15, 30\n",
    "n = 3  # Três subintervalos\n",
    "resultado3 = simpson_38(a, b, n, F_cos_theta, F_values[3:], theta_values[3:])\n",
    "print('\\nSimpson 3/8')\n",
    "print(f'Trabalho aproximado no intervalo [15, 20, 25, 30]: {resultado3}\\n')\n",
    "\n",
    "sum123 = resultado1 + resultado2 + resultado3\n",
    "\n",
    "print(f\"Soma dos Trabalhos Calculados: {sum123}\")\n"
   ]
  },
  {
   "cell_type": "markdown",
   "metadata": {},
   "source": [
    "Método de 1/3 de Simpson Repetido: Para o intervalo [0, 2,5, 5], o trabalho aproximado foi de 15,78. Este método foi eficiente para intervalos com poucos pontos, proporcionando uma boa aproximação devido a forma parabólica da função.<br>\n",
    "\n",
    "Para o intervalo [5, 15], que possui apenas 1 subintervalo com h = 10, foi aplicado o Método do Trapézio. Esse método é mais simples e adequado para casos onde a função não é muito irregular, mas pode não é tão preciso quanto os métodos de Simpson para intervalos com maior variação.<br>\n",
    "\n",
    "No intervalo [15, 20, 25, 30], aplicamos o Método do 3/8 de Simpson Repetido, que é uma variante do Método de Simpson e é particularmente útil quando há mais pontos de dados e a função apresenta curvas mais complexas.<br>\n",
    "\n",
    "Método de Simpson, tanto na forma de 1/3 quanto de 3/8, tende a ser mais preciso em intervalos com mais subintervalos e onde a função apresenta maior curvatura, enquanto o Método do Trapézio é mais simples e direto, adequado para intervalos com menos variação.\n",
    "\n",
    "A soma dos trabalhos calculados reflete de forma geral o trabalho total realizado, indicando que os métodos utilizados foram eficazes na aproximação do trabalho realizado.<br>"
   ]
  },
  {
   "cell_type": "markdown",
   "metadata": {},
   "source": [
    "## Exercício 2"
   ]
  },
  {
   "cell_type": "markdown",
   "metadata": {},
   "source": [
    "2) Para os problemas de valor inicial<br>\n",
    "\n",
    "A)  y’ = x^2 + y^2<br>\n",
    "    y(0) = 0<br>\n",
    "    \n",
    "B)  y’ = x + y<br>\n",
    "    y(0) = 1<br>\n",
    "\n",
    "a) Calcule y(0,5) para o problema A e y(0,2) para o problema B usando o Método de Euler. Considere h = 0,1 e h = 0.05.<br>\n",
    "\n",
    "b) Compare os resultados obtidos na letra a com a solução exata do problema A e B<br>"
   ]
  },
  {
   "cell_type": "code",
   "execution_count": 80,
   "metadata": {},
   "outputs": [
    {
     "name": "stdout",
     "output_type": "stream",
     "text": [
      "y(0.5) para o problema A usando o Método de Euler: 0.030022207380957063\n",
      "y(0.2) para o problema B usando o Método de Euler: 1.2310124999999998\n",
      "\n",
      "Solução exata de y(0.2) para o problema B: 1.2428055163203398\n",
      "\n",
      "Erro relativo para o problema B: 0.95%\n"
     ]
    }
   ],
   "source": [
    "f_a = lambda x, y: x**2 + y**2\n",
    "f_b = lambda x, y: x + y\n",
    "\n",
    "# parâmetros iniciais\n",
    "x0_A, y0_A = 0, 0\n",
    "x0_B, y0_B = 0, 1\n",
    "h_A = 0.1\n",
    "h_B = 0.05\n",
    "\n",
    "# Número de passos (m)\n",
    "m_A = int(0.5 / h_A)\n",
    "m_B = int(0.2 / h_B)\n",
    "\n",
    "VetX_A, VetY_A = euler_method(f_a, x0_A, 0.5, y0_A, m_A)\n",
    "VetX_B, VetY_B = euler_method(f_b, x0_B, 0.2, y0_B, m_B)\n",
    "\n",
    "# Valores aproximados\n",
    "y_0_5_A = VetY_A[-1]\n",
    "y_0_2_B = VetY_B[-1]\n",
    "\n",
    "# Solucao Exata\n",
    "y_exact_B = exact_solution_B(0.2)\n",
    "\n",
    "print(f\"y(0.5) para o problema A usando o Método de Euler: {y_0_5_A}\")\n",
    "print(f\"y(0.2) para o problema B usando o Método de Euler: {y_0_2_B}\")\n",
    "print(f\"\\nSolução exata de y(0.2) para o problema B: {y_exact_B}\")\n",
    "\n",
    "# Erro relativo para o problema B\n",
    "erro_relativo_B = abs((y_0_2_B - y_exact_B) / y_exact_B) * 100\n",
    "print(f\"\\nErro relativo para o problema B: {erro_relativo_B:.2f}%\")"
   ]
  },
  {
   "cell_type": "markdown",
   "metadata": {},
   "source": [
    "No problema A, calculamos y(0,5) usando o Método de Euler e obtivemos o valor de 0.030022207380957063. Como não possuímos a solução exata para comparação, não podemos avaliar diretamente a precisão do método para esse caso. No entanto, sabemos que o Método de Euler pode introduzir erros significativos, especialmente para equações diferenciais não lineares, como é o caso de y’ = x^2 + y^2.<br>\n",
    "\n",
    "No problema B, comparamos o resultado obtido pelo Método de Euler com a solução exata. Utilizando o Método de Euler, encontramos y(0,2)=1.2310124999999998. A solução exata, y(0,2)=1.2428055163203398, apresenta um valor um pouco maior.<br>\n",
    "\n",
    "O erro relativo é de 0.95%, o que indica que o Método de Euler fornece uma boa aproximação para valores pequenos de x, apesar de ainda apresentar uma pequena discrepância. Isso é esperado, pois o Método de Euler é um método numérico de primeira ordem, e a precisão pode ser aumentada utilizando métodos de maior ordem ou reduzindo o tamanho do passo h.<br>\n",
    "\n",
    "Portanto, os resultados demonstram que o Método de Euler é uma ferramenta útil para encontrar soluções aproximadas de equações diferenciais, embora deva-se ter cuidado com o erro numérico introduzido, especialmente para problemas não lineares ou para intervalos maiores.<br>"
   ]
  }
 ],
 "metadata": {
  "kernelspec": {
   "display_name": "Python 3",
   "language": "python",
   "name": "python3"
  },
  "language_info": {
   "codemirror_mode": {
    "name": "ipython",
    "version": 3
   },
   "file_extension": ".py",
   "mimetype": "text/x-python",
   "name": "python",
   "nbconvert_exporter": "python",
   "pygments_lexer": "ipython3",
   "version": "3.12.4"
  }
 },
 "nbformat": 4,
 "nbformat_minor": 2
}
